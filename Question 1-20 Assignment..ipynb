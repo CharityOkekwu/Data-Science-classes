{
 "cells": [
  {
   "cell_type": "markdown",
   "id": "91a3e8bc",
   "metadata": {},
   "source": [
    "### Exercise 1: Mailing Address\n",
    "Create a program that displays your name and complete mailing address formatted in\n",
    "the manner that you would usually see it on the outside of an envelope. Your program\n",
    "does not need to read any input from the user\n"
   ]
  },
  {
   "cell_type": "code",
   "execution_count": 4,
   "id": "a62403db",
   "metadata": {},
   "outputs": [
    {
     "name": "stdout",
     "output_type": "stream",
     "text": [
      "Charity Okekwu\n",
      "Iwofe\n",
      "Emouha\n",
      "08108314782\n"
     ]
    }
   ],
   "source": [
    "name=(\"Charity Okekwu\")\n",
    "address=(\"Iwofe\")\n",
    "local_government=(\"Emouha\")\n",
    "phone_number=(\"08108314782\")\n",
    "print(f\"{name}\\n{address}\\n{local_government}\\n{phone_number}\")\n"
   ]
  },
  {
   "cell_type": "markdown",
   "id": "7c8a6bd8",
   "metadata": {},
   "source": [
    "### Exercise 2: Hello\n",
    "Write a program that asks the user to enter his or her name. The program should\n",
    "respond with a message that says hello to the user, using his or her name."
   ]
  },
  {
   "cell_type": "code",
   "execution_count": 6,
   "id": "825a0177",
   "metadata": {},
   "outputs": [
    {
     "name": "stdout",
     "output_type": "stream",
     "text": [
      "Enter name: Charity\n",
      "Hello,Charity\n"
     ]
    }
   ],
   "source": [
    "name=input(\"Enter name: \")\n",
    "print(f\"Hello,{name}\")"
   ]
  },
  {
   "cell_type": "markdown",
   "id": "ca0f6443",
   "metadata": {},
   "source": [
    "### Exercise 3: Area of a Room\n",
    "Write a program that asks the user to enter the width and length of a room. Once\n",
    "the values have been read, your program should compute and display the area of the\n",
    "room. The length and the width will be entered as floating point numbers. Include\n",
    "units in your prompt and output message; either feet or meters, depending on which\n",
    "unit you are more comfortable working with"
   ]
  },
  {
   "cell_type": "code",
   "execution_count": 11,
   "id": "00591888",
   "metadata": {},
   "outputs": [
    {
     "name": "stdout",
     "output_type": "stream",
     "text": [
      "Enter width: 5.7\n",
      "Enter width: 8\n",
      "45.6cm\n"
     ]
    }
   ],
   "source": [
    "width=float(input(\"Enter width: \"))\n",
    "length=float(input(\"Enter width: \"))\n",
    "area_of_a_room=width*length\n",
    "print(f\"{area_of_a_room}cm\")"
   ]
  },
  {
   "cell_type": "markdown",
   "id": "70826ca3",
   "metadata": {},
   "source": [
    "### Exercise 4: Area of a Field\n",
    "Create a program that reads the length and width of a farmer’s field from the user in\n",
    "feet. Display the area of the field in acres.\n",
    "Hint: There are 43,560 square feet in an acre"
   ]
  },
  {
   "cell_type": "code",
   "execution_count": 17,
   "id": "f216c9c1",
   "metadata": {},
   "outputs": [
    {
     "name": "stdout",
     "output_type": "stream",
     "text": [
      "Enter length in feet:2.3\n",
      "Enter width in feet:2.5\n",
      "The area of the field is 0.0001320018365472911 acre\n"
     ]
    }
   ],
   "source": [
    "length_of_field=float(input(\"Enter length in feet:\"))\n",
    "width_of_field=float(input(\"Enter width in feet:\"))\n",
    "area_of_a_field=length_of_field*width_of_field\n",
    "result=area_of_a_field/43560\n",
    "print(f\"The area of the field is {result} acre\")"
   ]
  },
  {
   "cell_type": "markdown",
   "id": "01639f2d",
   "metadata": {},
   "source": [
    "### Exercise 5: Bottle Deposits\n",
    "In many jurisdictions a small deposit is added to drink containers to encourage people\n",
    "to recycle them. In one particular jurisdiction, drink containers holding one liter or\n",
    "less have a $0.10 deposit, and drink containers holding more than one liter have a\n",
    "$0.25 deposit.\n",
    "Write a program that reads the number of containers of each size from the user.\n",
    "Your program should continue by computing and displaying the refund that will be\n",
    "received for returning those containers. Format the output so that it includes a dollar\n",
    "sign and always displays exactly two decimal places"
   ]
  },
  {
   "cell_type": "code",
   "execution_count": null,
   "id": "b4958f68",
   "metadata": {},
   "outputs": [],
   "source": [
    "one_litre=0.10\n",
    "more_than_one_litres=0.25\n",
    "number_of_one_litre_containers=int(input(\"Enter number of one litre containers: \"))\n",
    "more_than_one_litre_containers=int(input(\"Enter number of containers higher than one litre: \"))\n",
    "\n",
    "total_one_litre = number_of_one_litre_containers * one_litre\n",
    "total_more_than_one_litre = more_than_one_litre_containers * more_than_one_litres\n",
    "refund = round()\n"
   ]
  },
  {
   "cell_type": "markdown",
   "id": "e8ab49d2",
   "metadata": {},
   "source": [
    "### Exercise 6: Tax and Tip\n",
    "The program that you create for this exercise will begin by reading the cost of a meal\n",
    "ordered at a restaurant from the user. Then your program will compute the tax and\n",
    "tip for the meal. Use your local tax rate when computing the amount of tax owing.\n",
    "Compute the tip as 18 percent of the meal amount (without the tax). The output from\n",
    "your program should include the tax amount, the tip amount, and the grand total for\n",
    "the meal including both the tax and the tip. Format the output so that all of the values\n",
    "are displayed using two decimal places"
   ]
  },
  {
   "cell_type": "code",
   "execution_count": null,
   "id": "fdc5e8b9",
   "metadata": {},
   "outputs": [],
   "source": []
  },
  {
   "cell_type": "markdown",
   "id": "a0fd70f7",
   "metadata": {},
   "source": [
    "### Exercise 7: Sum of the First n Positive Integers\n",
    "Write a program that reads a positive integer, n, from the user and then displays the\n",
    "sum of all of the integers from 1 to n. The sum of the first n positive integers can be\n",
    "computed using the formula:\n",
    "sum = (n)(n + 1)\n"
   ]
  },
  {
   "cell_type": "markdown",
   "id": "4bf4b986",
   "metadata": {},
   "source": [
    "### Exercise 8:Widgets and Gizmos\n",
    "An online retailer sells two products: widgets and gizmos. Each widget weighs 75\n",
    "grams. Each gizmo weighs 112 grams. Write a program that reads the number of\n",
    "widgets and the number of gizmos in an order from the user. Then your program\n",
    "should compute and display the total weight of the order"
   ]
  },
  {
   "cell_type": "code",
   "execution_count": null,
   "id": "cf6bac21",
   "metadata": {},
   "outputs": [],
   "source": []
  },
  {
   "cell_type": "markdown",
   "id": "258ae934",
   "metadata": {},
   "source": [
    "### Exercise 9: Compound Interest\n",
    "(19 Lines)\n",
    "Pretend that you have just opened a new savings account that earns 4 percent interest\n",
    "per year. The interest that you earn is paid at the end of the year, and is added\n",
    "to the balance of the savings account. Write a program that begins by reading the\n",
    "amount of money deposited into the account from the user. Then your program should\n",
    "compute and display the amount in the savings account after 1, 2, and 3 years. Display\n",
    "each amount so that it is rounded to 2 decimal places"
   ]
  },
  {
   "cell_type": "code",
   "execution_count": null,
   "id": "7cf46975",
   "metadata": {},
   "outputs": [],
   "source": []
  },
  {
   "cell_type": "markdown",
   "id": "52862b37",
   "metadata": {},
   "source": [
    "### Exercise 10: Arithmetic\n",
    "Create a program that reads two integers, a and b, from the user. Your program should\n",
    "compute and display:\n",
    "• The sum of a and b\n",
    "• The difference when b is subtracted from a\n",
    "• The product of a and b.\n",
    "• The quotient when a is divided by b\n",
    "• The remainder when a is divided by b\n",
    "• The result of log10 a\n",
    "• The result of ab\n",
    "Hint: You will probably find the log10 function in the math module helpful\n",
    "for computing the second last item in the list"
   ]
  },
  {
   "cell_type": "code",
   "execution_count": null,
   "id": "73bbdf37",
   "metadata": {},
   "outputs": [],
   "source": []
  },
  {
   "cell_type": "markdown",
   "id": "e43e5f32",
   "metadata": {},
   "source": [
    "### Exercise 11: Fuel Efficiency\n",
    "In the United States, fuel efficiency for vehicles is normally expressed in miles-per\u0002gallon (MPG). In Canada, fuel efficiency is normally expressed in liters-per-hundred\n",
    "kilometers (L/100 km). Use your research skills to determine how to convert from\n",
    "MPG to L/100 km. Then create a program that reads a value from the user in American\n",
    "units and displays the equivalent fuel efficiency in Canadian units"
   ]
  },
  {
   "cell_type": "markdown",
   "id": "88ce81b8",
   "metadata": {},
   "source": [
    "### Exercise 12: Distance Between Two Points on Earth\n",
    "(27 Lines)\n",
    "The surface of the Earth is curved, and the distance between degrees of longitude\n",
    "varies with latitude. As a result, finding the distance between two points on the surface\n",
    "of the Earth is more complicated than simply using the Pythagorean theorem.\n",
    "Let (t1, g1) and (t2, g2) be the latitude and longitude of two points on the Earth’s\n",
    "surface. The distance between these points, following the surface of the Earth, in\n",
    "kilometers is:\n",
    "distance = 6371.01 × arccos(sin(t1) × sin(t2) + cos(t1) × cos(t2) × cos(g1 − g2))\n",
    "The value 6371.01 in the previous equation wasn’t selected at random. It is\n",
    "the average radius of the Earth in kilometers.\n",
    "Create a program that allows the user to enter the latitude and longitude of two\n",
    "points on the Earth in degrees. Your program should display the distance between\n",
    "the points, following the surface of the earth, in kilometers.\n",
    "Hint: Python’s trigonometric functions operate in radians. As a result, you will\n",
    "need to convert the user’s input from degrees to radians before computing the\n",
    "distance with the formula discussed previously. The math module contains a\n",
    "function named radians which converts from degrees to radians"
   ]
  },
  {
   "cell_type": "code",
   "execution_count": null,
   "id": "8977c934",
   "metadata": {},
   "outputs": [],
   "source": []
  },
  {
   "cell_type": "markdown",
   "id": "2aef1eb4",
   "metadata": {},
   "source": [
    "### Exercise 13: Making Change\n",
    "(Solved—33 Lines)\n",
    "Consider the software that runs on a self-checkout machine. One task that it must be\n",
    "able to perform is to determine how much change to provide when the shopper pays\n",
    "for a purchase with cash.\n",
    "Write a program that begins by reading a number of cents from the user as an\n",
    "integer. Then your program should compute and display the denominations of the\n",
    "coins that should be used to give that amount of change to the shopper. The change\n",
    "should be given using as few coins as possible. Assume that the machine is loaded\n",
    "with pennies, nickels, dimes, quarters, loonies and toonies.\n",
    "A one dollar coin was introduced in Canada in 1987. It is referred to as a\n",
    "loonie because one side of the coin has a loon (a type of bird) on it. The two\n",
    "dollar coin, referred to as a toonie, was introduced 9 years later. It’s name is\n",
    "derived from the combination of the number two and the name of the loonie."
   ]
  },
  {
   "cell_type": "code",
   "execution_count": null,
   "id": "39fbb121",
   "metadata": {},
   "outputs": [],
   "source": []
  },
  {
   "cell_type": "markdown",
   "id": "94ee47cd",
   "metadata": {},
   "source": [
    "### Exercise 14: Height Units\n",
    "(Solved—16 Lines)\n",
    "Many people think about their height in feet and inches, even in some countries that\n",
    "primarily use the metric system. Write a program that reads a number of feet from\n",
    "the user, followed by a number of inches. Once these values are read, your program\n",
    "should compute and display the equivalent number of centimeters.\n",
    "Hint: One foot is 12 inches. One inch is 2.54 centimeter"
   ]
  },
  {
   "cell_type": "code",
   "execution_count": null,
   "id": "fcdd6af1",
   "metadata": {},
   "outputs": [],
   "source": []
  },
  {
   "cell_type": "markdown",
   "id": "4192713e",
   "metadata": {},
   "source": [
    "### Exercise 15: Distance Units\n",
    "(20 Lines)\n",
    "In this exercise, you will create a program that begins by reading a measurement\n",
    "in feet from the user. Then your program should display the equivalent distance in\n",
    "inches, yards and miles. Use the Internet to look up the necessary conversion factors\n",
    "if you don’t have them memorized."
   ]
  },
  {
   "cell_type": "code",
   "execution_count": null,
   "id": "f1510e31",
   "metadata": {},
   "outputs": [],
   "source": []
  },
  {
   "cell_type": "markdown",
   "id": "8b84c586",
   "metadata": {},
   "source": [
    "### Exercise 16: Area and Volume\n",
    "(15 Lines)\n",
    "Write a program that begins by reading a radius, r, from the user. The program will\n",
    "continue by computing and displaying the area of a circle with radius r and the\n",
    "volume of a sphere with radius r. Use the pi constant in the math module in your\n",
    "calculations.\n",
    "Hint: The area of a circle is computed using the formula area = πr 2. The\n",
    "volume of a sphere is computed using the formula volume = 4\n",
    "3πr 3"
   ]
  },
  {
   "cell_type": "code",
   "execution_count": null,
   "id": "c026464e",
   "metadata": {},
   "outputs": [],
   "source": []
  },
  {
   "cell_type": "markdown",
   "id": "27538d51",
   "metadata": {},
   "source": [
    "### Exercise 17: Heat Capacity\n",
    "(Solved—25 Lines)\n",
    "The amount of energy required to increase the temperature of one gram of a material\n",
    "by one degree Celsius is the material’s specific heat capacity, C. The total amount\n",
    "of energy required to raise m grams of a material by ΔT degrees Celsius can be\n",
    "computed using the formula:\n",
    "q = mCΔT.\n",
    "Write a program that reads the mass of some water and the temperature change\n",
    "from the user. Your program should display the total amount of energy that must be\n",
    "added or removed to achieve the desired temperature change.\n",
    "Hint: The specific heat capacity of water is 4.186 J\n",
    "g◦C. Because water has a den\u0002sity of 1.0 gram per millilitre, you can use grams and millilitres interchangeably\n",
    "in this exercise.\n",
    "Extend your program so that it also computes the cost of heating the water. Elec\u0002tricity is normally billed using units of kilowatt hours rather than Joules. In this\n",
    "exercise, you should assume that electricity costs 8.9 cents per kilowatt-hour. Use\n",
    "your program to compute the cost of boiling water for a cup of coffee\n",
    "Hint: You will need to look up the factor for converting between Joules and\n",
    "kilowatt hours to complete the last part of this exercise"
   ]
  },
  {
   "cell_type": "code",
   "execution_count": null,
   "id": "30443811",
   "metadata": {},
   "outputs": [],
   "source": []
  },
  {
   "cell_type": "markdown",
   "id": "b6f0991a",
   "metadata": {},
   "source": [
    "### Exercise 18:Volume of a Cylinder\n",
    "The volume of a cylinder can be computed by multiplying the area of its circular\n",
    "base by its height. Write a program that reads the radius of the cylinder, along with\n",
    "its height, from the user and computes its volume. Display the result rounded to one\n",
    "decimal place"
   ]
  },
  {
   "cell_type": "code",
   "execution_count": null,
   "id": "20b6eae5",
   "metadata": {},
   "outputs": [],
   "source": []
  },
  {
   "cell_type": "markdown",
   "id": "8d6d11e5",
   "metadata": {},
   "source": [
    "### Exercise 19: Free Fall\n",
    "Create a program that determines how quickly an object is traveling when it hits the\n",
    "ground. The user will enter the height from which the object is dropped in meters (m).\n",
    "Because the object is dropped its initial speed is 0 m/s. Assume that the acceleration\n",
    "due to gravity is 9.8 m/s2. You can use the formula vf =\n",
    "\u0002\n",
    "v2\n",
    "i + 2ad to compute the\n",
    "final speed, vf , when the initial speed, vi , acceleration, a, and distance, d, are known"
   ]
  },
  {
   "cell_type": "code",
   "execution_count": null,
   "id": "280b282e",
   "metadata": {},
   "outputs": [],
   "source": []
  },
  {
   "cell_type": "markdown",
   "id": "0f77f739",
   "metadata": {},
   "source": [
    "### Exercise 20: Ideal Gas Law\n",
    "The ideal gas law is a mathematical approximation of the behavior of gasses as\n",
    "pressure, volume and temperature change. It is usually stated as:\n",
    "PV = nRT\n",
    "where P is the pressure in Pascals, V is the volume in liters, n is the amount of\n",
    "substance in moles, R is the ideal gas constant, equal to 8.314 J\n",
    "mol K , and T is the\n",
    "temperature in degrees Kelvin.\n",
    "Write a program that computes the amount of gas in moles when the user supplies\n",
    "the pressure, volume and temperature. Test your program by determining the number\n",
    "of moles of gas in a SCUBA tank. A typical SCUBA tank holds 12 liters of gas at\n",
    "a pressure of 20,000,000 Pascals (approximately 3,000 PSI). Room temperature is\n",
    "approximately 20 degrees Celsius or 68 degrees Fahrenhei"
   ]
  },
  {
   "cell_type": "code",
   "execution_count": null,
   "id": "895c5f48",
   "metadata": {},
   "outputs": [],
   "source": []
  }
 ],
 "metadata": {
  "kernelspec": {
   "display_name": "Python 3 (ipykernel)",
   "language": "python",
   "name": "python3"
  },
  "language_info": {
   "codemirror_mode": {
    "name": "ipython",
    "version": 3
   },
   "file_extension": ".py",
   "mimetype": "text/x-python",
   "name": "python",
   "nbconvert_exporter": "python",
   "pygments_lexer": "ipython3",
   "version": "3.10.9"
  }
 },
 "nbformat": 4,
 "nbformat_minor": 5
}
