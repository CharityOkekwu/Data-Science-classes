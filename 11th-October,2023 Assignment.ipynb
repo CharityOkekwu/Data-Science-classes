{
 "cells": [
  {
   "cell_type": "markdown",
   "id": "dc50c124",
   "metadata": {},
   "source": [
    "### 11th-October,2023  Assignment\n",
    "#### Question 1: Figure out how to change font style and size in Tkinter."
   ]
  },
  {
   "cell_type": "code",
   "execution_count": 1,
   "id": "909be2c2",
   "metadata": {},
   "outputs": [],
   "source": [
    "from tkinter import *"
   ]
  },
  {
   "cell_type": "code",
   "execution_count": 22,
   "id": "d3ee31c5",
   "metadata": {},
   "outputs": [],
   "source": [
    "def size_1():\n",
    "    text.config(font=(\"Helvatical bold\",20))\n",
    "def size_2():\n",
    "    text.config(font=(\"Helvetica bold\",40))\n",
    "windows=Tk()\n",
    "windows.geometry(\"650x250\")\n",
    "text=Label(windows,text=\"Good morning sir!\")\n",
    "text.pack()\n",
    "frame=Frame(windows) # Frame is like a command that allows a particular character to stay on the widget while entry allows a blank space to type.\n",
    "Label(frame, text=\"Select font size\").pack()\n",
    "button1=Button(frame,text=\"20\",command=size_1)\n",
    "button1.pack(pady=10)\n",
    "button2=Button(frame,text=\"40\",command=size_2)\n",
    "button2.pack(pady=10)\n",
    "frame.pack()\n",
    "windows.mainloop()\n",
    "\n"
   ]
  },
  {
   "cell_type": "code",
   "execution_count": null,
   "id": "fa69a678",
   "metadata": {},
   "outputs": [],
   "source": [
    "import tkinter.font as tkfont\n",
    "def change_font_size(size):\n",
    "    custom_font.configure(size=size)\n",
    "def change_font_style(style):\n",
    "    custom_font.configure(family=style)\n",
    "window=Tk()\n",
    "window.title(\"Font Changer\")\n",
    "custom_font=tkFont.Font(famly=\"Arial\", size=16)\n",
    "my_label=Label(window,text=\"Custom Font\",font=custom_font)\n",
    "my_label.pack()\n",
    "window.mainloop()"
   ]
  },
  {
   "cell_type": "markdown",
   "id": "0f43bc90",
   "metadata": {},
   "source": [
    " ### Question 2: How to include Internal & External padding."
   ]
  },
  {
   "cell_type": "markdown",
   "id": "8624faf3",
   "metadata": {},
   "source": [
    "### What is internal padding?"
   ]
  },
  {
   "cell_type": "markdown",
   "id": "a73e1fe8",
   "metadata": {},
   "source": [
    "#### Internal padding refers to the space or margin inside a graphic user interface(the container and the widget) that seperates the content or the element of the child from the edges of the element itself.\n",
    "#### it is used to create space between the content and the border of the element(frames,labels,buttons,etc) providing visual seperation and improving the appearance of the interface using padx and pady."
   ]
  },
  {
   "cell_type": "code",
   "execution_count": 2,
   "id": "362c9386",
   "metadata": {},
   "outputs": [],
   "source": [
    "import tkinter as tk\n",
    "\n",
    "window = tk.Tk()\n",
    "frame = tk.Frame(window, width=200, height=100, bg=\"lightgray\")\n",
    "\n",
    "# Adding internal padding to the frame\n",
    "frame.grid(padx=10, pady=10)\n",
    "\n",
    "label = tk.Label(frame, text=\"Thank God is friday\")\n",
    "label.pack()\n",
    "\n",
    "window.mainloop()\n"
   ]
  },
  {
   "cell_type": "markdown",
   "id": "ad635f8a",
   "metadata": {},
   "source": [
    "### What is External padding.\n",
    "### External padding, in the context of graphical user interfaces, refers to the space or margin outside a GUI element (such as a widget or container) that separates the element from other nearby elements or the window's boundaries. It provides space around the element itself, affecting the overall layout and spacing of the user interface.\n",
    "\n",
    "External padding is used to control the space around a widget or container, ensuring that it's not too close to other elements or the edges of the window. This spacing improves the overall aesthetics and readability of the user interface by preventing elements from being too cramped together."
   ]
  },
  {
   "cell_type": "code",
   "execution_count": 24,
   "id": "78106cd2",
   "metadata": {},
   "outputs": [],
   "source": [
    " import tkinter as tk\n",
    "window = tk.Tk()\n",
    "window.title(\"Thank God is Friday\")\n",
    "# Create widgets with external padding\n",
    "label1 = tk.Label(window, text=\"Friday\", padx=20, pady=10, bg=\"lightblue\")\n",
    "label2 = tk.Label(window, text=\"Saturday\", padx=10, pady=20, bg=\"lightgreen\")\n",
    "\n",
    "# Place widgets using the grid layout manager\n",
    "label1.grid(row=0, column=0)\n",
    "label2.grid(row=1, column=1)\n",
    "\n",
    "window.mainloop()"
   ]
  },
  {
   "cell_type": "markdown",
   "id": "d9e530a1",
   "metadata": {},
   "source": [
    "### Question 3: How to include radio button and checkbox widget. "
   ]
  },
  {
   "cell_type": "code",
   "execution_count": 26,
   "id": "84d27880",
   "metadata": {},
   "outputs": [],
   "source": [
    "import tkinter as tk\n",
    "window = tk.Tk()\n",
    "window.title(\"Radio Button and Checkbox Example\")\n",
    "label = tk.Label(window, text=\"Selected Option: None\")\n",
    "label.pack()\n",
    "radio_var = tk.StringVar()\n",
    "radio_button = tk.Radiobutton(window, text=\"Radio Option 1\", variable=radio_var, value=\"Option 1\")\n",
    "radio_button.pack()\n",
    "radio_button2 = tk.Radiobutton(window, text=\"Radio Option 2\", variable=radio_var, value=\"Option 2\")\n",
    "radio_button2.pack()\n",
    "checkbox_var = tk.IntVar()\n",
    "checkbox = tk.Checkbutton(window, text=\"Check Option\", variable=checkbox_var)\n",
    "checkbox.pack()\n",
    "def update_label():\n",
    "    selected_radio_option = radio_var.get()\n",
    "    is_checked = \"Checked\" if checkbox_var.get() == 1 else \"Unchecked\"\n",
    "    label.config(text=f\"Selected Option: {selected_radio_option}, Checkbox is {is_checked}\")\n",
    "update_button = tk.Button(window, text=\"Update Label\", command=update_label)\n",
    "update_button.pack()\n",
    "\n",
    "window.mainloop()\n",
    "\n",
    "\n",
    "\n",
    "\n"
   ]
  },
  {
   "cell_type": "code",
   "execution_count": null,
   "id": "061fa62e",
   "metadata": {},
   "outputs": [],
   "source": []
  }
 ],
 "metadata": {
  "kernelspec": {
   "display_name": "Python 3 (ipykernel)",
   "language": "python",
   "name": "python3"
  },
  "language_info": {
   "codemirror_mode": {
    "name": "ipython",
    "version": 3
   },
   "file_extension": ".py",
   "mimetype": "text/x-python",
   "name": "python",
   "nbconvert_exporter": "python",
   "pygments_lexer": "ipython3",
   "version": "3.10.9"
  }
 },
 "nbformat": 4,
 "nbformat_minor": 5
}
