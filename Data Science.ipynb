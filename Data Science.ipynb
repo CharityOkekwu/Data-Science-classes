{
 "cells": [
  {
   "cell_type": "code",
   "execution_count": 2,
   "id": "d16a5763",
   "metadata": {},
   "outputs": [
    {
     "name": "stdout",
     "output_type": "stream",
     "text": [
      "Minutes:  3\n",
      "Seconds:  20\n"
     ]
    }
   ],
   "source": [
    "total_seconds=200\n",
    "mins=total_seconds//60\n",
    "seconds=total_seconds-mins*60\n",
    "print(\"Minutes: \",mins)\n",
    "print(\"Seconds: \",seconds)"
   ]
  },
  {
   "cell_type": "code",
   "execution_count": null,
   "id": "6da4397c",
   "metadata": {},
   "outputs": [],
   "source": [
    "total_seconds=200\n",
    "mins=total_seconds//60\n",
    "seconds=total_seconds-mins*60\n",
    "print(\"Minutes: \",mins)\n",
    "print(\"Seconds: \",seconds)"
   ]
  },
  {
   "cell_type": "code",
   "execution_count": 3,
   "id": "666ed3e6",
   "metadata": {
    "scrolled": true
   },
   "outputs": [
    {
     "name": "stdout",
     "output_type": "stream",
     "text": [
      "23\n",
      "12\n",
      "2312\n"
     ]
    }
   ],
   "source": [
    "a=input()\n",
    "b=input()\n",
    "c=a+b\n",
    "print(c) #string concatenation"
   ]
  },
  {
   "cell_type": "code",
   "execution_count": 4,
   "id": "8cce83a8",
   "metadata": {},
   "outputs": [
    {
     "name": "stdout",
     "output_type": "stream",
     "text": [
      "Enter the value of a: 23\n",
      "Enter the value of b: 12\n",
      "2312\n"
     ]
    }
   ],
   "source": [
    "a=input(\"Enter the value of a: \")\n",
    "b=input(\"Enter the value of b: \")\n",
    "c=a+b\n",
    "print(c)"
   ]
  },
  {
   "cell_type": "code",
   "execution_count": 5,
   "id": "d524e938",
   "metadata": {},
   "outputs": [
    {
     "name": "stdout",
     "output_type": "stream",
     "text": [
      "Enter the value of a: 3.2\n",
      "Enter the value of b: 3\n",
      "6.2\n"
     ]
    }
   ],
   "source": [
    "#converting databtype a and b from a string to a float.\n",
    "a=input(\"Enter the value of a: \")\n",
    "b=input(\"Enter the value of b: \")\n",
    "c=float(a)+float(b)\n",
    "print(c)"
   ]
  },
  {
   "cell_type": "code",
   "execution_count": 6,
   "id": "1345ba24",
   "metadata": {},
   "outputs": [
    {
     "name": "stdout",
     "output_type": "stream",
     "text": [
      "Enter the value of a: 12\n",
      "Enter the value of b: 2\n",
      "14.0\n"
     ]
    }
   ],
   "source": [
    "#OR\n",
    "#converting databtype a and b from a string to a float/int.\n",
    "a=float(input(\"Enter the value of a: \"))\n",
    "b=float(input(\"Enter the value of b: \"))\n",
    "c=(a)+(b)\n",
    "print(c)"
   ]
  },
  {
   "cell_type": "code",
   "execution_count": 4,
   "id": "dc9d03d2",
   "metadata": {},
   "outputs": [
    {
     "name": "stdout",
     "output_type": "stream",
     "text": [
      "Age 23\n",
      "year_of_birth:  2000\n"
     ]
    }
   ],
   "source": [
    "#year_of_birth\n",
    "age=int(input(\"Age \"))\n",
    "present_year=2023\n",
    "year_of_birth=(present_year-age)\n",
    "print(\"year_of_birth: \", year_of_birth)\n"
   ]
  },
  {
   "cell_type": "code",
   "execution_count": 19,
   "id": "7eac3ecb",
   "metadata": {},
   "outputs": [
    {
     "name": "stdout",
     "output_type": "stream",
     "text": [
      "Enter the value of a: 12\n",
      "Enter the value of b: 12\n",
      "Enter the value of c: 2\n",
      "Average:  8.666666666666666\n"
     ]
    }
   ],
   "source": [
    "#Average_of_three_numbers\n",
    "a=float(input(\"Enter the value of a: \"))\n",
    "b=float(input(\"Enter the value of b: \"))\n",
    "c=float(input(\"Enter the value of c: \")) \n",
    "average=(a+b+c)/3\n",
    "print(\"Average: \", average)"
   ]
  },
  {
   "cell_type": "code",
   "execution_count": 11,
   "id": "6ecbe948",
   "metadata": {},
   "outputs": [
    {
     "name": "stdout",
     "output_type": "stream",
     "text": [
      "Enter salary: 100000\n",
      "New_salary:  115000.0\n"
     ]
    }
   ],
   "source": [
    "#Compute_the_salary_if_the_salary_of_a_worker_is_increased by 15%. The actual salary should come as an input.\n",
    "salary=float(input(\"Enter salary: \"))\n",
    "increase=(0.15)\n",
    "salary_increase=(salary*increase)\n",
    "new_salary=(salary+salary_increase)\n",
    "print(\"New_salary: \",new_salary)"
   ]
  },
  {
   "cell_type": "code",
   "execution_count": 13,
   "id": "e70d3cd2",
   "metadata": {},
   "outputs": [
    {
     "name": "stdout",
     "output_type": "stream",
     "text": [
      "Enter salary: 100000\n",
      "New_salary:  114999.99999999999\n"
     ]
    }
   ],
   "source": [
    "#Modified\n",
    "\n",
    "#Compute_the_salary_if_the_salary_of_a_worker_is_increased by 15%. The actual salary should come as an input.\n",
    "salary=float(input(\"Enter salary: \"))\n",
    "new_salary=(1.15*salary)\n",
    "print(\"New_salary: \",new_salary)"
   ]
  },
  {
   "cell_type": "code",
   "execution_count": 15,
   "id": "403ccfc4",
   "metadata": {},
   "outputs": [
    {
     "name": "stdout",
     "output_type": "stream",
     "text": [
      "<class 'str'>\n"
     ]
    }
   ],
   "source": [
    "#Primitive_Datatype\n",
    "#Strings\n",
    "first_name=\"Boma\"\n",
    "last_name='George'\n",
    "other_name=\"\"\"Smith\"\"\"\n",
    "state_of_origin='''Rivers'''\n",
    "print(type(first_name))\n"
   ]
  },
  {
   "cell_type": "code",
   "execution_count": 16,
   "id": "09bd87c9",
   "metadata": {},
   "outputs": [
    {
     "name": "stdout",
     "output_type": "stream",
     "text": [
      "George Boma\n"
     ]
    }
   ],
   "source": [
    "#string concatenation\n",
    "first_name=\"Boma\"\n",
    "last_name='George'\n",
    "other_name=\"\"\"Smith\"\"\"\n",
    "state_of_origin='''Rivers'''\n",
    "fullname=last_name+\" \"+first_name\n",
    "print(fullname)\n"
   ]
  },
  {
   "cell_type": "code",
   "execution_count": 18,
   "id": "2cb6f6e6",
   "metadata": {},
   "outputs": [
    {
     "name": "stdout",
     "output_type": "stream",
     "text": [
      "George Boma\n"
     ]
    }
   ],
   "source": [
    "#string interpolation\n",
    "first_name=\"Boma\"\n",
    "last_name='George'\n",
    "other_name=\"\"\"Smith\"\"\"\n",
    "state_of_origin='''Rivers'''\n",
    "fullname=f\"{last_name} {first_name}\"\n",
    "print(fullname)"
   ]
  },
  {
   "cell_type": "code",
   "execution_count": 20,
   "id": "99d1129a",
   "metadata": {},
   "outputs": [
    {
     "name": "stdout",
     "output_type": "stream",
     "text": [
      "Enter the value of a: 3\n",
      "Enter the value of b: 3\n",
      "Enter the value of c: 5\n",
      "The average is 3.6666666666666665\n"
     ]
    }
   ],
   "source": [
    "#String interpolation\n",
    "#Average_of_three_numbers\n",
    "a=float(input(\"Enter the value of a: \"))\n",
    "b=float(input(\"Enter the value of b: \"))\n",
    "c=float(input(\"Enter the value of c: \")) \n",
    "average=(a+b+c)/3\n",
    "print(f\"The average is {average}\")"
   ]
  },
  {
   "cell_type": "code",
   "execution_count": 21,
   "id": "7e1def26",
   "metadata": {},
   "outputs": [
    {
     "name": "stdout",
     "output_type": "stream",
     "text": [
      "B\n"
     ]
    }
   ],
   "source": [
    "#indexing and slicing\n",
    "first_name=\"Boma\"\n",
    "print(first_name[0])\n"
   ]
  },
  {
   "cell_type": "code",
   "execution_count": 22,
   "id": "6fd7809a",
   "metadata": {},
   "outputs": [
    {
     "name": "stdout",
     "output_type": "stream",
     "text": [
      "B\n",
      "4\n"
     ]
    }
   ],
   "source": [
    "first_name=\"Boma\"\n",
    "print(first_name[0])\n",
    "print(len(first_name))\n"
   ]
  },
  {
   "cell_type": "code",
   "execution_count": 26,
   "id": "d1388e50",
   "metadata": {},
   "outputs": [
    {
     "name": "stdout",
     "output_type": "stream",
     "text": [
      "Enter a message: Imagine\n",
      "e\n"
     ]
    }
   ],
   "source": [
    "smart_hub=input(\"Enter a message: \")\n",
    "pos=len(smart_hub)-1\n",
    "print(smart_hub[pos])"
   ]
  },
  {
   "cell_type": "code",
   "execution_count": 28,
   "id": "93e7c0a7",
   "metadata": {},
   "outputs": [
    {
     "name": "stdout",
     "output_type": "stream",
     "text": [
      "Enter a message: September\n",
      "r\n"
     ]
    }
   ],
   "source": [
    "#Negative Indexing\n",
    "smart_hub=input(\"Enter a message: \")\n",
    "print(smart_hub[-1])"
   ]
  },
  {
   "cell_type": "code",
   "execution_count": 31,
   "id": "a5425840",
   "metadata": {},
   "outputs": [
    {
     "name": "stdout",
     "output_type": "stream",
     "text": [
      "Enter a message: Prosper\n",
      "s\n"
     ]
    }
   ],
   "source": [
    "#for the case of an odd character\n",
    "msg=input(\"Enter a message: \")\n",
    "pos=len(msg)//2\n",
    "print(msg[pos])"
   ]
  },
  {
   "cell_type": "code",
   "execution_count": null,
   "id": "f95c8bb6",
   "metadata": {},
   "outputs": [],
   "source": []
  }
 ],
 "metadata": {
  "kernelspec": {
   "display_name": "Python 3 (ipykernel)",
   "language": "python",
   "name": "python3"
  },
  "language_info": {
   "codemirror_mode": {
    "name": "ipython",
    "version": 3
   },
   "file_extension": ".py",
   "mimetype": "text/x-python",
   "name": "python",
   "nbconvert_exporter": "python",
   "pygments_lexer": "ipython3",
   "version": "3.10.9"
  }
 },
 "nbformat": 4,
 "nbformat_minor": 5
}
