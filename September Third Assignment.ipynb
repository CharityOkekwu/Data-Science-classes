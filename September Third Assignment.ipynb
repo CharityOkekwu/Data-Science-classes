{
 "cells": [
  {
   "cell_type": "markdown",
   "id": "0c6d4f30",
   "metadata": {},
   "source": [
    "## Assignment 07-09-2023"
   ]
  },
  {
   "cell_type": "markdown",
   "id": "5d1535dc",
   "metadata": {},
   "source": [
    "### Question 1: Write a program that reads a sound level in decibels from the user. If the user\n",
    "enters a decibel level that matches one of the noises in the table then your program should display a message containing only that noise. If the user enters a number of decibels between the noises listed then your program should display a message indicating which noises the level is between. Ensure that your program also generates reasonable output for a value smaller than the quietest noise in the table, and for a value larger than the loudest noise in the table."
   ]
  },
  {
   "cell_type": "code",
   "execution_count": 5,
   "id": "b9383263",
   "metadata": {},
   "outputs": [
    {
     "name": "stdout",
     "output_type": "stream",
     "text": [
      "Enter sound level in decibels: 40\n",
      "quiet room\n"
     ]
    }
   ],
   "source": [
    "sound_level=130\n",
    "sound_level=106\n",
    "sound_level=70\n",
    "sound_level=40\n",
    "sound_level=float(input(\"Enter sound level in decibels: \"))\n",
    "if sound_level==130:\n",
    "    print(\"Jack hammers\")\n",
    "elif sound_level==106:\n",
    "    print(\"Gas lawnmowers\")\n",
    "elif sound_level==70:\n",
    "    print(\"Alarm clock\")\n",
    "elif sound_level==40:\n",
    "    print(\"quiet room\")\n",
    "elif sound_level>=130:\n",
    "    print(\"Noise above range\")\n",
    "else:\n",
    "    print(\"Noise is below range\")"
   ]
  },
  {
   "cell_type": "code",
   "execution_count": null,
   "id": "eb87a62e",
   "metadata": {},
   "outputs": [],
   "source": []
  },
  {
   "cell_type": "code",
   "execution_count": null,
   "id": "7f94d94c",
   "metadata": {},
   "outputs": [],
   "source": []
  },
  {
   "cell_type": "markdown",
   "id": "0076c25f",
   "metadata": {},
   "source": [
    "### Question 2: The length of a month varies from 28 to 31 days. In this exercise you will create\n",
    "a program that reads the name of a month from the user as a string. Then your program should display the number of days in that month. Display “28 or 29 days” for February so that leap years are addressed\n",
    "\n",
    "  \n",
    "\n",
    "  "
   ]
  },
  {
   "cell_type": "code",
   "execution_count": 8,
   "id": "75a6ef85",
   "metadata": {},
   "outputs": [
    {
     "name": "stdout",
     "output_type": "stream",
     "text": [
      "Enter the name of a month: February\n",
      "Is it a leap year?(yes or no): yes\n",
      "February has 29 days.\n"
     ]
    }
   ],
   "source": [
    "Month_name=input(\"Enter the name of a month: \")\n",
    "Month_days={\"January\": 31,\"February\": \"28\"or\"29\",\n",
    "        \"March\":31,\n",
    "        \"Apirl\":30,\n",
    "        \"May\":31,\n",
    "        \"June\":30,\n",
    "        \"July\":31,\n",
    "        \"August\":31, \n",
    "        \"September\":30,\n",
    "        \"October\":31,\n",
    "        \"November\":30,\n",
    "        \"December\":31}\n",
    "if Month_name==\"February\":\n",
    "    leap_year=input(\"Is it a leap year?(yes or no): \").lower()\n",
    "    if leap_year==\"yes\":\n",
    "        days=29\n",
    "    else:\n",
    "        days=28\n",
    "else:\n",
    "        Month_days.get(Month_name,\"Invalid Month\")\n",
    "if days==\"Invalid Month\":\n",
    "        print(\"Invalid month name.\")\n",
    "else:\n",
    "    print(f\"{Month_name} has {days} days.\")\n",
    "\n",
    "      "
   ]
  },
  {
   "cell_type": "markdown",
   "id": "022d33dd",
   "metadata": {},
   "source": [
    "## Questions on conditionals"
   ]
  },
  {
   "cell_type": "markdown",
   "id": "dd532e2b",
   "metadata": {},
   "source": [
    "### Question 3: A year is a leap year if it is divisible by 4, except that years divisible by 100 are not leap\n",
    "yearsunless they are also divisible by 400. Write a program that asks the user for a year\n",
    "and printsout whether it is a leap year or not."
   ]
  },
  {
   "cell_type": "code",
   "execution_count": 17,
   "id": "f2fbb90b",
   "metadata": {},
   "outputs": [
    {
     "name": "stdout",
     "output_type": "stream",
     "text": [
      "Enter year: 2009\n",
      "2009 is not a leap year.\n"
     ]
    }
   ],
   "source": [
    "year=int(input(\"Enter year: \"))\n",
    "if (year%4==0 and year%100!=0)or(year%400==0):#This is a rule, leap year is gotten by dividing by 4 or 400.\n",
    "    print(year,\"is a leap year.\")\n",
    "else:\n",
    "    print(year,\"is not a leap year.\")\n"
   ]
  },
  {
   "cell_type": "markdown",
   "id": "442dc843",
   "metadata": {},
   "source": [
    "### Question 4: Write a program that asks the user to enter a number and prints out all the divisors of\n",
    "thatnumber. [Hint: the%operator is used to tell if a number is divisible by something."
   ]
  },
  {
   "cell_type": "code",
   "execution_count": 26,
   "id": "5e45a9db",
   "metadata": {},
   "outputs": [],
   "source": [
    "def find_divisors(chosen_number):\n",
    "    divisors=[]\n",
    "    for i in range(1, chosen_number+1):\n",
    "        if chosen_number%i==0:\n",
    "            divisors.append(i)\n",
    "        return divisors"
   ]
  },
  {
   "cell_type": "code",
   "execution_count": 10,
   "id": "4716b933",
   "metadata": {},
   "outputs": [
    {
     "ename": "SyntaxError",
     "evalue": "invalid syntax (203711852.py, line 4)",
     "output_type": "error",
     "traceback": [
      "\u001b[1;36m  Cell \u001b[1;32mIn[10], line 4\u001b[1;36m\u001b[0m\n\u001b[1;33m    except:\u001b[0m\n\u001b[1;37m    ^\u001b[0m\n\u001b[1;31mSyntaxError\u001b[0m\u001b[1;31m:\u001b[0m invalid syntax\n"
     ]
    }
   ],
   "source": [
    "chosen_number=int(input(\"Enter number: \"))\n",
    "divisors_list=find_divisors(chosen_number)\n",
    "print(\"Divisors of\", chosen_number, \"are:\",divisors_list)\n",
    "except valueError:\n",
    "    print(\"invalid input. please enter a valid message\")"
   ]
  },
  {
   "cell_type": "markdown",
   "id": "061c1e2e",
   "metadata": {},
   "source": [
    "### Question 5: A store charges $12 per  item if you buy less than 10 items. If you buy between 10 and\n",
    "99items, the cost is $10 per item. If you buy 100 or more items, the cost is $7 per item.\n",
    "Write aprogram that asks the user how many items they are buying and prints the total\n",
    "cost."
   ]
  },
  {
   "cell_type": "code",
   "execution_count": 8,
   "id": "8c1ded41",
   "metadata": {},
   "outputs": [
    {
     "name": "stdout",
     "output_type": "stream",
     "text": [
      "How many items are you buying? 34\n",
      "Total_cost: $ 340\n"
     ]
    }
   ],
   "source": [
    "item=int(input(\"How many items are you buying? \"))\n",
    "if item<=10:\n",
    "    Total_cost=12*item\n",
    "elif item>=10 and item<=99:\n",
    "    Total_cost=10*item\n",
    "else:\n",
    "    Total_cost=7*item\n",
    "print(\"Total_cost: $\",(Total_cost))"
   ]
  },
  {
   "cell_type": "markdown",
   "id": "01342f95",
   "metadata": {},
   "source": [
    "### Question 6: Write a program that asks the user for two numbers and prints Close if the numbers\n",
    "arewithin 001 of each other and Not close otherwise."
   ]
  },
  {
   "cell_type": "code",
   "execution_count": 11,
   "id": "2b8eddcd",
   "metadata": {},
   "outputs": [
    {
     "name": "stdout",
     "output_type": "stream",
     "text": [
      "Enter first number: 5\n",
      "Enter second number: 7\n",
      "not close\n"
     ]
    }
   ],
   "source": [
    "first_number=float(input(\"Enter first number: \"))\n",
    "second_number=float(input(\"Enter second number: \"))\n",
    "if abs(first_number-second_number)<=0.001:\n",
    "    print(\"close\")\n",
    "else:\n",
    "    print(\"not close\")"
   ]
  },
  {
   "cell_type": "markdown",
   "id": "4565927e",
   "metadata": {},
   "source": [
    "### Question 7:Write a Python program that prints each item and its corresponding type\n",
    "from the following list.\n",
    "Sample List : datalist = [1452, 11.23, 1+2j, True, 'w3resource', (0, -1), [5,\n",
    "12], {\"class\":'V', \"section\":'A'}]"
   ]
  },
  {
   "cell_type": "code",
   "execution_count": 12,
   "id": "85e5745c",
   "metadata": {},
   "outputs": [
    {
     "ename": "SyntaxError",
     "evalue": "unterminated string literal (detected at line 4) (340459478.py, line 4)",
     "output_type": "error",
     "traceback": [
      "\u001b[1;36m  Cell \u001b[1;32mIn[12], line 4\u001b[1;36m\u001b[0m\n\u001b[1;33m    print(f\"Item:{item}, Type:{type(item)})\u001b[0m\n\u001b[1;37m          ^\u001b[0m\n\u001b[1;31mSyntaxError\u001b[0m\u001b[1;31m:\u001b[0m unterminated string literal (detected at line 4)\n"
     ]
    }
   ],
   "source": [
    "#Sample list:\n",
    "datalist = [1452, 11.23, 1+2j, True, 'w3resource', (0, -1), [5, 12], {\"class\":'V', \"section\":'A'}]\n",
    "for item in datalist:\n",
    "    print(f\"Item:{item},Type:{type(item)})"
   ]
  },
  {
   "cell_type": "code",
   "execution_count": null,
   "id": "d58b903f",
   "metadata": {},
   "outputs": [],
   "source": []
  },
  {
   "cell_type": "markdown",
   "id": "55f7b2ce",
   "metadata": {},
   "source": [
    "### Question 8: Write a Python program that prints all the numbers from 0 to 6 except 3\n",
    "and 6.\n",
    "Note : Use 'continue' statement."
   ]
  },
  {
   "cell_type": "code",
   "execution_count": 1,
   "id": "527b3e70",
   "metadata": {},
   "outputs": [
    {
     "name": "stdout",
     "output_type": "stream",
     "text": [
      "0\n",
      "1\n",
      "2\n",
      "4\n",
      "5\n"
     ]
    }
   ],
   "source": [
    "for i in range(7):\n",
    "    if i ==3 or i==6:\n",
    "        continue\n",
    "    print(i)\n"
   ]
  },
  {
   "cell_type": "markdown",
   "id": "9f775cc6",
   "metadata": {},
   "source": [
    "### Question 9: Write a Python program which iterates the integers from 1 to 50. For\n",
    "multiples of three print \"Fizz\" instead of the number and for the multiples of\n",
    "five print \"Buzz\". For numbers which are multiples of both three and five\n",
    "print \"FizzBuzz\".\n",
    "Sample Output :\n",
    "fizzbuzz\n",
    "1\n",
    "2\n",
    "fizz\n",
    "4"
   ]
  },
  {
   "cell_type": "code",
   "execution_count": 2,
   "id": "b54cd312",
   "metadata": {},
   "outputs": [
    {
     "name": "stdout",
     "output_type": "stream",
     "text": [
      "1\n",
      "2\n",
      "Fizz\n",
      "4\n",
      "Buzz\n",
      "Fizz\n",
      "7\n",
      "8\n",
      "Fizz\n",
      "Buzz\n",
      "11\n",
      "Fizz\n",
      "13\n",
      "14\n",
      "FizzBuzz\n",
      "16\n",
      "17\n",
      "Fizz\n",
      "19\n",
      "Buzz\n",
      "Fizz\n",
      "22\n",
      "23\n",
      "Fizz\n",
      "Buzz\n",
      "26\n",
      "Fizz\n",
      "28\n",
      "29\n",
      "FizzBuzz\n",
      "31\n",
      "32\n",
      "Fizz\n",
      "34\n",
      "Buzz\n",
      "Fizz\n",
      "37\n",
      "38\n",
      "Fizz\n",
      "Buzz\n",
      "41\n",
      "Fizz\n",
      "43\n",
      "44\n",
      "FizzBuzz\n",
      "46\n",
      "47\n",
      "Fizz\n",
      "49\n",
      "Buzz\n"
     ]
    }
   ],
   "source": [
    "for i in range(1,51):\n",
    "    if i%3==0 and i%5==0:\n",
    "        print(\"FizzBuzz\")\n",
    "    elif i%3==0:\n",
    "        print(\"Fizz\")\n",
    "    elif i%5==0:\n",
    "        print(\"Buzz\")\n",
    "    else:\n",
    "        p"
   ]
  },
  {
   "cell_type": "markdown",
   "id": "7fc11e5b",
   "metadata": {},
   "source": [
    "### Question 10: Write a Python program to find numbers between 100 and 400 (both\n",
    "included) where each digit of a number is an even number. The numbers\n",
    "obtained should be printed in a comma-separated sequence"
   ]
  },
  {
   "cell_type": "code",
   "execution_count": 7,
   "id": "b68a6201",
   "metadata": {},
   "outputs": [
    {
     "ename": "NameError",
     "evalue": "name 'digit' is not defined",
     "output_type": "error",
     "traceback": [
      "\u001b[1;31m---------------------------------------------------------------------------\u001b[0m",
      "\u001b[1;31mNameError\u001b[0m                                 Traceback (most recent call last)",
      "Cell \u001b[1;32mIn[7], line 3\u001b[0m\n\u001b[0;32m      1\u001b[0m even_digits_numbers\u001b[38;5;241m=\u001b[39m[]\n\u001b[0;32m      2\u001b[0m \u001b[38;5;28;01mfor\u001b[39;00m num \u001b[38;5;129;01min\u001b[39;00m \u001b[38;5;28mrange\u001b[39m(\u001b[38;5;241m100\u001b[39m,\u001b[38;5;241m401\u001b[39m):\n\u001b[1;32m----> 3\u001b[0m     all_even_digits\u001b[38;5;241m=\u001b[39m\u001b[38;5;28;43mall\u001b[39;49m\u001b[43m(\u001b[49m\u001b[38;5;28;43mint\u001b[39;49m\u001b[43m(\u001b[49m\u001b[43mdigit\u001b[49m\u001b[43m)\u001b[49m\u001b[38;5;241;43m%\u001b[39;49m\u001b[38;5;241;43m2\u001b[39;49m\u001b[38;5;241;43m==\u001b[39;49m\u001b[38;5;241;43m0\u001b[39;49m\u001b[43m \u001b[49m\u001b[38;5;28;43;01mfor\u001b[39;49;00m\u001b[43m \u001b[49m\u001b[43mdigits\u001b[49m\u001b[43m \u001b[49m\u001b[38;5;129;43;01min\u001b[39;49;00m\u001b[43m \u001b[49m\u001b[38;5;28;43mstr\u001b[39;49m\u001b[43m(\u001b[49m\u001b[43mnum\u001b[49m\u001b[43m)\u001b[49m\u001b[43m)\u001b[49m\n\u001b[0;32m      4\u001b[0m \u001b[38;5;28;01mif\u001b[39;00m all_even_digits:\n\u001b[0;32m      5\u001b[0m     even_digits_numbers\u001b[38;5;241m.\u001b[39mappend(\u001b[38;5;28mstr\u001b[39m(num))\n",
      "Cell \u001b[1;32mIn[7], line 3\u001b[0m, in \u001b[0;36m<genexpr>\u001b[1;34m(.0)\u001b[0m\n\u001b[0;32m      1\u001b[0m even_digits_numbers\u001b[38;5;241m=\u001b[39m[]\n\u001b[0;32m      2\u001b[0m \u001b[38;5;28;01mfor\u001b[39;00m num \u001b[38;5;129;01min\u001b[39;00m \u001b[38;5;28mrange\u001b[39m(\u001b[38;5;241m100\u001b[39m,\u001b[38;5;241m401\u001b[39m):\n\u001b[1;32m----> 3\u001b[0m     all_even_digits\u001b[38;5;241m=\u001b[39m\u001b[38;5;28mall\u001b[39m(\u001b[38;5;28mint\u001b[39m(\u001b[43mdigit\u001b[49m)\u001b[38;5;241m%\u001b[39m\u001b[38;5;241m2\u001b[39m\u001b[38;5;241m==\u001b[39m\u001b[38;5;241m0\u001b[39m \u001b[38;5;28;01mfor\u001b[39;00m digits \u001b[38;5;129;01min\u001b[39;00m \u001b[38;5;28mstr\u001b[39m(num))\n\u001b[0;32m      4\u001b[0m \u001b[38;5;28;01mif\u001b[39;00m all_even_digits:\n\u001b[0;32m      5\u001b[0m     even_digits_numbers\u001b[38;5;241m.\u001b[39mappend(\u001b[38;5;28mstr\u001b[39m(num))\n",
      "\u001b[1;31mNameError\u001b[0m: name 'digit' is not defined"
     ]
    }
   ],
   "source": [
    "even_digits_numbers=[]\n",
    "for num in range(100,401):\n",
    "    all_even_digits=all(int(digit)%2==0 for digits in str(num))\n",
    "    if all_even_digits:\n",
    "    even_digits_numbers.append(str(num))\n",
    "result=\",\".join(even_digits_numbers)\n",
    "print(result)"
   ]
  },
  {
   "cell_type": "code",
   "execution_count": null,
   "id": "186faec6",
   "metadata": {},
   "outputs": [],
   "source": []
  }
 ],
 "metadata": {
  "kernelspec": {
   "display_name": "Python 3 (ipykernel)",
   "language": "python",
   "name": "python3"
  },
  "language_info": {
   "codemirror_mode": {
    "name": "ipython",
    "version": 3
   },
   "file_extension": ".py",
   "mimetype": "text/x-python",
   "name": "python",
   "nbconvert_exporter": "python",
   "pygments_lexer": "ipython3",
   "version": "3.10.9"
  }
 },
 "nbformat": 4,
 "nbformat_minor": 5
}
