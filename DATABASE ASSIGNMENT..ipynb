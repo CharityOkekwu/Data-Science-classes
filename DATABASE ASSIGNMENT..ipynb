{
 "cells": [
  {
   "cell_type": "markdown",
   "id": "6797a4be",
   "metadata": {},
   "source": [
    "### ASSIGNMENT 24-10-2023\n",
    "#### 1. Create a table and print out it's values."
   ]
  },
  {
   "cell_type": "code",
   "execution_count": null,
   "id": "7cafed18",
   "metadata": {},
   "outputs": [],
   "source": [
    "import sqlite3 as sqlite\n",
    "connection=sqlite.connect(\"Student Grade.db\")\n",
    "connection.execute(\"CREATE TABLE Student_Grade(Name TEXT, Mat number TEXT, Score INT, grade TEXT)\")\n",
    "connection.close()"
   ]
  },
  {
   "cell_type": "code",
   "execution_count": 11,
   "id": "b3ae0767",
   "metadata": {},
   "outputs": [],
   "source": [
    "conn=sqlite.connect(\"Student Grade.db\")\n",
    "conn.execute('INSERT INTO Student_Grade VALUES(\"Charity Okekwu\", \"u2017/1001\", 99,\"A\" )')\n",
    "conn.commit()\n",
    "conn.close()"
   ]
  },
  {
   "cell_type": "code",
   "execution_count": 14,
   "id": "de85c532",
   "metadata": {},
   "outputs": [
    {
     "name": "stdout",
     "output_type": "stream",
     "text": [
      "('Charity Okekwu', 'u2017/1001', 99, 'A')\n"
     ]
    }
   ],
   "source": [
    "conn=sqlite.connect(\"Student Grade.db\")\n",
    "curs=conn.cursor()\n",
    "content=curs.execute(\"Select * FROM Student_Grade\")\n",
    "for record in content:\n",
    "    print(record)\n",
    "conn.close()"
   ]
  },
  {
   "cell_type": "markdown",
   "id": "62edac96",
   "metadata": {},
   "source": [
    "#### The primary key should be an integer and it should increment on it's own."
   ]
  },
  {
   "cell_type": "code",
   "execution_count": null,
   "id": "60495fa7",
   "metadata": {},
   "outputs": [],
   "source": [
    "conn=sqlite.connect(\"Student Grade.db\")\n",
    "conn.execute('INSERT INTO Student_Grade VALUES(\"Charity Okekwu\", \"u2017/1001\", 99,\"A\" )')\n",
    "conn.commit()\n",
    "conn.close()"
   ]
  },
  {
   "cell_type": "code",
   "execution_count": null,
   "id": "b078b783",
   "metadata": {},
   "outputs": [],
   "source": []
  }
 ],
 "metadata": {
  "kernelspec": {
   "display_name": "Python 3 (ipykernel)",
   "language": "python",
   "name": "python3"
  },
  "language_info": {
   "codemirror_mode": {
    "name": "ipython",
    "version": 3
   },
   "file_extension": ".py",
   "mimetype": "text/x-python",
   "name": "python",
   "nbconvert_exporter": "python",
   "pygments_lexer": "ipython3",
   "version": "3.10.9"
  }
 },
 "nbformat": 4,
 "nbformat_minor": 5
}
