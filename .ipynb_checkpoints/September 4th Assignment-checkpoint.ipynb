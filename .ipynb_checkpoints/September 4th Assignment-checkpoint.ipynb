{
 "cells": [
  {
   "cell_type": "code",
   "execution_count": null,
   "id": "763b288c",
   "metadata": {},
   "outputs": [],
   "source": [
    "## Exercise 5: Bottle Deposits\n",
    "(Solved—15 Lines)\n",
    "In many jurisdictions a small deposit is added to drink containers to encourage people\n",
    "to recycle them. In one particular jurisdiction, drink containers holding one liter or\n",
    "less have a $0.10 deposit, and drink containers holding more than one liter have a\n",
    "$0.25 deposit.\n",
    "Write a program that reads the number of containers of each size from the user.\n",
    "Your program should continue by computing and displaying the refund that will be\n",
    "received for returning those containers. Format the output so that it includes a dollar\n",
    "sign and always displays exactly two decimal places"
   ]
  },
  {
   "cell_type": "code",
   "execution_count": null,
   "id": "ae5b535a",
   "metadata": {},
   "outputs": [],
   "source": [
    "## Exercise 6: Tax and Tip\n",
    "(Solved—17 Lines)\n",
    "The program that you create for this exercise will begin by reading the cost of a meal\n",
    "ordered at a restaurant from the user. Then your program will compute the tax and\n",
    "tip for the meal. Use your local tax rate when computing the amount of tax owing.\n",
    "Compute the tip as 18 percent of the meal amount (without the tax). The output from\n",
    "your program should include the tax amount, the tip amount, and the grand total for\n",
    "the meal including both the tax and the tip. Format the output so that all of the values\n",
    "are displayed using two decimal places"
   ]
  },
  {
   "cell_type": "code",
   "execution_count": null,
   "id": "28782d1a",
   "metadata": {},
   "outputs": [],
   "source": [
    "## Exercise 7: Sum of the First n Positive Integers\n",
    "(Solved—12 Lines)\n",
    "Write a program that reads a positive integer, n, from the user and then displays the\n",
    "sum of all of the integers from 1 to n. The sum of the first n positive integers can be\n",
    "computed using the formula:\n",
    "sum = (n)(n + 1"
   ]
  },
  {
   "cell_type": "code",
   "execution_count": null,
   "id": "e0795d96",
   "metadata": {},
   "outputs": [],
   "source": [
    "## Exercise 8:Widgets and Gizmos\n",
    "(15 Lines)\n",
    "An online retailer sells two products: widgets and gizmos. Each widget weighs 75\n",
    "grams. Each gizmo weighs 112 grams. Write a program that reads the number of\n",
    "widgets and the number of gizmos in an order from the user. Then your program\n",
    "should compute and display the total weight of the order"
   ]
  },
  {
   "cell_type": "code",
   "execution_count": null,
   "id": "16d7d85b",
   "metadata": {},
   "outputs": [],
   "source": []
  },
  {
   "cell_type": "code",
   "execution_count": null,
   "id": "3a074349",
   "metadata": {},
   "outputs": [],
   "source": [
    "## Exercise 9: Compound Interest\n",
    "(19 Lines)\n",
    "Pretend that you have just opened a new savings account that earns 4 percent interest\n",
    "per year. The interest that you earn is paid at the end of the year, and is added\n",
    "to the balance of the savings account. Write a program that begins by reading the\n",
    "amount of money deposited into the account from the user. Then your program should\n",
    "compute and display the amount in the savings account after 1, 2, and 3 years. Display\n",
    "each amount so that it is rounded to 2 decimal places"
   ]
  },
  {
   "cell_type": "code",
   "execution_count": null,
   "id": "aed07179",
   "metadata": {},
   "outputs": [],
   "source": [
    "## Exercise 10: Arithmetic\n",
    "(Solved—20 Lines)\n",
    "Create a program that reads two integers, a and b, from the user. Your program should\n",
    "compute and display:\n",
    "• The sum of a and b\n",
    "• The difference when b is subtracted from a\n",
    "• The product of a and b"
   ]
  },
  {
   "cell_type": "code",
   "execution_count": null,
   "id": "93bd4064",
   "metadata": {},
   "outputs": [],
   "source": [
    "## xercise 63: Temperature Conversion Table\n",
    "(22 Lines)\n",
    "Write a program that displays a temperature conversion table for degrees Celsius and\n",
    "degrees Fahrenheit. The table should include rows for all temperatures between 0\n",
    "and 100 degrees Celsius that are multiples of 10 degrees Celsius. Include appropriate\n",
    "headings on your columns. The formula for converting between degrees Celsius and\n",
    "degrees Fahrenheit can be found on the internet"
   ]
  },
  {
   "cell_type": "code",
   "execution_count": null,
   "id": "c12a96e4",
   "metadata": {},
   "outputs": [],
   "source": [
    "## Exercise 67: Admission Price\n",
    "(Solved—38 Lines)\n",
    "A particular zoo determines the price of admission based on the age of the guest.\n",
    "Guests 2 years of age and less are admitted without charge. Children between 3 and\n",
    "12 years of age cost $14.00. Seniors aged 65 years and over cost $18.00. Admission\n",
    "for all other guests is $23.00.\n",
    "Create a program that begins by reading the ages of all of the guests in a group\n",
    "from the user, with one age entered on each line. The user will enter a blank line to\n",
    "indicate that there are no more guests in the group. Then your program should display\n",
    "the admission cost for the group with an appropriate message. The cost should be\n",
    "displayed using two decimal places"
   ]
  },
  {
   "cell_type": "code",
   "execution_count": null,
   "id": "8601376a",
   "metadata": {},
   "outputs": [],
   "source": [
    "## Exercise 72: Is a String a Palindrome?\n",
    "(Solved—23 Lines)\n",
    "A string is a palindrome if it is identical forward and backward. For example “anna”,\n",
    "“civic”, “level” and “hannah” are all examples of palindromic words.Write a program\n",
    "that reads a string from the user and uses a loop to determines whether or not it is a\n",
    "palindrome. Display the result, including a meaningful output message"
   ]
  },
  {
   "cell_type": "code",
   "execution_count": null,
   "id": "037b6704",
   "metadata": {},
   "outputs": [],
   "source": [
    "## Exercise 73: Multiple Word Palindromes\n",
    "(35 Lines)\n",
    "There are numerous phrases that are palindromes when spacing is ignored. Examples\n",
    "include “go dog”, “flee to me remote elf” and “some men interpret nine memos”,\n",
    "among many others. Extend your solution to Exercise 72 so that it ignores spacing\n",
    "while determining whether or not a string is a palindrome. For an additional challenge,\n",
    "extend your solution so that is also ignores punctuation marks and treats uppercase\n",
    "and lowercase letters as equivalent"
   ]
  },
  {
   "cell_type": "code",
   "execution_count": null,
   "id": "6c8f47aa",
   "metadata": {},
   "outputs": [],
   "source": []
  },
  {
   "cell_type": "code",
   "execution_count": null,
   "id": "34c584ed",
   "metadata": {},
   "outputs": [],
   "source": []
  }
 ],
 "metadata": {
  "kernelspec": {
   "display_name": "Python 3 (ipykernel)",
   "language": "python",
   "name": "python3"
  },
  "language_info": {
   "codemirror_mode": {
    "name": "ipython",
    "version": 3
   },
   "file_extension": ".py",
   "mimetype": "text/x-python",
   "name": "python",
   "nbconvert_exporter": "python",
   "pygments_lexer": "ipython3",
   "version": "3.10.9"
  }
 },
 "nbformat": 4,
 "nbformat_minor": 5
}
