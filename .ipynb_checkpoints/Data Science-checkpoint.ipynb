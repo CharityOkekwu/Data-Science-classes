{
 "cells": [
  {
   "cell_type": "code",
   "execution_count": 2,
   "id": "d16a5763",
   "metadata": {},
   "outputs": [
    {
     "name": "stdout",
     "output_type": "stream",
     "text": [
      "Minutes:  3\n",
      "Seconds:  20\n"
     ]
    }
   ],
   "source": [
    "total_seconds=200\n",
    "mins=total_seconds//60\n",
    "seconds=total_seconds-mins*60\n",
    "print(\"Minutes: \",mins)\n",
    "print(\"Seconds: \",seconds)"
   ]
  },
  {
   "cell_type": "code",
   "execution_count": null,
   "id": "6da4397c",
   "metadata": {},
   "outputs": [],
   "source": [
    "total_seconds=200\n",
    "mins=total_seconds//60\n",
    "seconds=total_seconds-mins*60\n",
    "print(\"Minutes: \",mins)\n",
    "print(\"Seconds: \",seconds)"
   ]
  },
  {
   "cell_type": "code",
   "execution_count": 3,
   "id": "666ed3e6",
   "metadata": {
    "scrolled": true
   },
   "outputs": [
    {
     "name": "stdout",
     "output_type": "stream",
     "text": [
      "23\n",
      "12\n",
      "2312\n"
     ]
    }
   ],
   "source": [
    "a=input()\n",
    "b=input()\n",
    "c=a+b\n",
    "print(c) #string concatenation"
   ]
  },
  {
   "cell_type": "code",
   "execution_count": 4,
   "id": "8cce83a8",
   "metadata": {},
   "outputs": [
    {
     "name": "stdout",
     "output_type": "stream",
     "text": [
      "Enter the value of a: 23\n",
      "Enter the value of b: 12\n",
      "2312\n"
     ]
    }
   ],
   "source": [
    "a=input(\"Enter the value of a: \")\n",
    "b=input(\"Enter the value of b: \")\n",
    "c=a+b\n",
    "print(c)"
   ]
  },
  {
   "cell_type": "code",
   "execution_count": 5,
   "id": "d524e938",
   "metadata": {},
   "outputs": [
    {
     "name": "stdout",
     "output_type": "stream",
     "text": [
      "Enter the value of a: 3.2\n",
      "Enter the value of b: 3\n",
      "6.2\n"
     ]
    }
   ],
   "source": [
    "#converting databtype a and b from a string to a float.\n",
    "a=input(\"Enter the value of a: \")\n",
    "b=input(\"Enter the value of b: \")\n",
    "c=float(a)+float(b)\n",
    "print(c)"
   ]
  },
  {
   "cell_type": "code",
   "execution_count": 6,
   "id": "1345ba24",
   "metadata": {},
   "outputs": [
    {
     "name": "stdout",
     "output_type": "stream",
     "text": [
      "Enter the value of a: 12\n",
      "Enter the value of b: 2\n",
      "14.0\n"
     ]
    }
   ],
   "source": [
    "#OR\n",
    "#converting databtype a and b from a string to a float/int.\n",
    "a=float(input(\"Enter the value of a: \"))\n",
    "b=float(input(\"Enter the value of b: \"))\n",
    "c=(a)+(b)\n",
    "print(c)"
   ]
  },
  {
   "cell_type": "code",
   "execution_count": 4,
   "id": "dc9d03d2",
   "metadata": {},
   "outputs": [
    {
     "name": "stdout",
     "output_type": "stream",
     "text": [
      "Age 23\n",
      "year_of_birth:  2000\n"
     ]
    }
   ],
   "source": [
    "#year_of_birth\n",
    "age=int(input(\"Age \"))\n",
    "present_year=2023\n",
    "year_of_birth=(present_year-age)\n",
    "print(\"year_of_birth: \", year_of_birth)\n"
   ]
  },
  {
   "cell_type": "code",
   "execution_count": 19,
   "id": "7eac3ecb",
   "metadata": {},
   "outputs": [
    {
     "name": "stdout",
     "output_type": "stream",
     "text": [
      "Enter the value of a: 12\n",
      "Enter the value of b: 12\n",
      "Enter the value of c: 2\n",
      "Average:  8.666666666666666\n"
     ]
    }
   ],
   "source": [
    "#Average_of_three_numbers\n",
    "a=float(input(\"Enter the value of a: \"))\n",
    "b=float(input(\"Enter the value of b: \"))\n",
    "c=float(input(\"Enter the value of c: \")) \n",
    "average=(a+b+c)/3\n",
    "print(\"Average: \", average)"
   ]
  },
  {
   "cell_type": "code",
   "execution_count": 11,
   "id": "6ecbe948",
   "metadata": {},
   "outputs": [
    {
     "name": "stdout",
     "output_type": "stream",
     "text": [
      "Enter salary: 100000\n",
      "New_salary:  115000.0\n"
     ]
    }
   ],
   "source": [
    "#Compute_the_salary_if_the_salary_of_a_worker_is_increased by 15%. The actual salary should come as an input.\n",
    "salary=float(input(\"Enter salary: \"))\n",
    "increase=(0.15)\n",
    "salary_increase=(salary*increase)\n",
    "new_salary=(salary+salary_increase)\n",
    "print(\"New_salary: \",new_salary)"
   ]
  },
  {
   "cell_type": "code",
   "execution_count": 13,
   "id": "e70d3cd2",
   "metadata": {},
   "outputs": [
    {
     "name": "stdout",
     "output_type": "stream",
     "text": [
      "Enter salary: 100000\n",
      "New_salary:  114999.99999999999\n"
     ]
    }
   ],
   "source": [
    "#Modified\n",
    "\n",
    "#Compute_the_salary_if_the_salary_of_a_worker_is_increased by 15%. The actual salary should come as an input.\n",
    "salary=float(input(\"Enter salary: \"))\n",
    "new_salary=(1.15*salary)\n",
    "print(\"New_salary: \",new_salary)"
   ]
  },
  {
   "cell_type": "code",
   "execution_count": 15,
   "id": "403ccfc4",
   "metadata": {},
   "outputs": [
    {
     "name": "stdout",
     "output_type": "stream",
     "text": [
      "<class 'str'>\n"
     ]
    }
   ],
   "source": [
    "#Primitive_Datatype\n",
    "#Strings\n",
    "first_name=\"Boma\"\n",
    "last_name='George'\n",
    "other_name=\"\"\"Smith\"\"\"\n",
    "state_of_origin='''Rivers'''\n",
    "print(type(first_name))\n"
   ]
  },
  {
   "cell_type": "code",
   "execution_count": 16,
   "id": "09bd87c9",
   "metadata": {},
   "outputs": [
    {
     "name": "stdout",
     "output_type": "stream",
     "text": [
      "George Boma\n"
     ]
    }
   ],
   "source": [
    "#string concatenation\n",
    "first_name=\"Boma\"\n",
    "last_name='George'\n",
    "other_name=\"\"\"Smith\"\"\"\n",
    "state_of_origin='''Rivers'''\n",
    "fullname=last_name+\" \"+first_name\n",
    "print(fullname)\n"
   ]
  },
  {
   "cell_type": "code",
   "execution_count": 18,
   "id": "2cb6f6e6",
   "metadata": {},
   "outputs": [
    {
     "name": "stdout",
     "output_type": "stream",
     "text": [
      "George Boma\n"
     ]
    }
   ],
   "source": [
    "#string interpolation\n",
    "first_name=\"Boma\"\n",
    "last_name='George'\n",
    "other_name=\"\"\"Smith\"\"\"\n",
    "state_of_origin='''Rivers'''\n",
    "fullname=f\"{last_name} {first_name}\"\n",
    "print(fullname)"
   ]
  },
  {
   "cell_type": "code",
   "execution_count": 20,
   "id": "99d1129a",
   "metadata": {},
   "outputs": [
    {
     "name": "stdout",
     "output_type": "stream",
     "text": [
      "Enter the value of a: 3\n",
      "Enter the value of b: 3\n",
      "Enter the value of c: 5\n",
      "The average is 3.6666666666666665\n"
     ]
    }
   ],
   "source": [
    "#String interpolation\n",
    "#Average_of_three_numbers\n",
    "a=float(input(\"Enter the value of a: \"))\n",
    "b=float(input(\"Enter the value of b: \"))\n",
    "c=float(input(\"Enter the value of c: \")) \n",
    "average=(a+b+c)/3\n",
    "print(f\"The average is {average}\")"
   ]
  },
  {
   "cell_type": "code",
   "execution_count": 21,
   "id": "7e1def26",
   "metadata": {},
   "outputs": [
    {
     "name": "stdout",
     "output_type": "stream",
     "text": [
      "B\n"
     ]
    }
   ],
   "source": [
    "#indexing and slicing\n",
    "first_name=\"Boma\"\n",
    "print(first_name[0])\n"
   ]
  },
  {
   "cell_type": "code",
   "execution_count": 22,
   "id": "6fd7809a",
   "metadata": {},
   "outputs": [
    {
     "name": "stdout",
     "output_type": "stream",
     "text": [
      "B\n",
      "4\n"
     ]
    }
   ],
   "source": [
    "first_name=\"Boma\"\n",
    "print(first_name[0])\n",
    "print(len(first_name))\n"
   ]
  },
  {
   "cell_type": "code",
   "execution_count": 26,
   "id": "d1388e50",
   "metadata": {},
   "outputs": [
    {
     "name": "stdout",
     "output_type": "stream",
     "text": [
      "Enter a message: Imagine\n",
      "e\n"
     ]
    }
   ],
   "source": [
    "smart_hub=input(\"Enter a message: \")\n",
    "pos=len(smart_hub)-1\n",
    "print(smart_hub[pos])"
   ]
  },
  {
   "cell_type": "code",
   "execution_count": 28,
   "id": "93e7c0a7",
   "metadata": {},
   "outputs": [
    {
     "name": "stdout",
     "output_type": "stream",
     "text": [
      "Enter a message: September\n",
      "r\n"
     ]
    }
   ],
   "source": [
    "#Negative Indexing\n",
    "smart_hub=input(\"Enter a message: \")\n",
    "print(smart_hub[-1])"
   ]
  },
  {
   "cell_type": "code",
   "execution_count": 31,
   "id": "a5425840",
   "metadata": {},
   "outputs": [
    {
     "name": "stdout",
     "output_type": "stream",
     "text": [
      "Enter a message: Prosper\n",
      "s\n"
     ]
    }
   ],
   "source": [
    "#for the case of an odd character\n",
    "msg=input(\"Enter a message: \")\n",
    "pos=len(msg)//2\n",
    "print(msg[pos])"
   ]
  },
  {
   "cell_type": "code",
   "execution_count": 4,
   "id": "6c51f6b7",
   "metadata": {},
   "outputs": [
    {
     "name": "stdout",
     "output_type": "stream",
     "text": [
      "Enter a message: second class in September\n",
      "second class in September\n"
     ]
    }
   ],
   "source": [
    "msg=input(\"Enter a message: \")\n",
    "msg.split()\n",
    "len(msg.split())\n",
    "print(msg)"
   ]
  },
  {
   "cell_type": "code",
   "execution_count": 5,
   "id": "c9ba376e",
   "metadata": {},
   "outputs": [
    {
     "name": "stdout",
     "output_type": "stream",
     "text": [
      "Enter a message: it's a good day\n"
     ]
    },
    {
     "data": {
      "text/plain": [
       "4"
      ]
     },
     "execution_count": 5,
     "metadata": {},
     "output_type": "execute_result"
    }
   ],
   "source": [
    "msg=input(\"Enter a message: \")\n",
    "msg.split()\n",
    "len(msg.split())\n",
    "\n"
   ]
  },
  {
   "cell_type": "code",
   "execution_count": 6,
   "id": "9a54ad25",
   "metadata": {},
   "outputs": [
    {
     "name": "stdout",
     "output_type": "stream",
     "text": [
      "Enter a message: it's a good day\n"
     ]
    },
    {
     "data": {
      "text/plain": [
       "[\"it's\", 'a', 'good', 'day']"
      ]
     },
     "execution_count": 6,
     "metadata": {},
     "output_type": "execute_result"
    }
   ],
   "source": [
    "msg=input(\"Enter a message: \")\n",
    "msg.split()"
   ]
  },
  {
   "cell_type": "code",
   "execution_count": 8,
   "id": "15669268",
   "metadata": {},
   "outputs": [
    {
     "name": "stdout",
     "output_type": "stream",
     "text": [
      "Enter a message: it's a good day\n"
     ]
    },
    {
     "data": {
      "text/plain": [
       "[\"it's \", ' good d', 'y']"
      ]
     },
     "execution_count": 8,
     "metadata": {},
     "output_type": "execute_result"
    }
   ],
   "source": [
    "sg=input(\"Enter a message: \")\n",
    "msg.split(\"a\")"
   ]
  },
  {
   "cell_type": "code",
   "execution_count": 9,
   "id": "d423a440",
   "metadata": {},
   "outputs": [
    {
     "name": "stdout",
     "output_type": "stream",
     "text": [
      "Enter a message: september second class\n",
      "3\n"
     ]
    }
   ],
   "source": [
    "# strip\n",
    "msg=input(\"Enter a message: \")\n",
    "print(msg.strip().count(\" \")+1)"
   ]
  },
  {
   "cell_type": "code",
   "execution_count": 11,
   "id": "5ac9bd2b",
   "metadata": {},
   "outputs": [
    {
     "name": "stdout",
     "output_type": "stream",
     "text": [
      "Enter a message: home is work\n"
     ]
    },
    {
     "data": {
      "text/plain": [
       "'september second class'"
      ]
     },
     "execution_count": 11,
     "metadata": {},
     "output_type": "execute_result"
    }
   ],
   "source": [
    "sg=input(\"Enter a message: \")\n",
    "msg.strip()"
   ]
  },
  {
   "cell_type": "markdown",
   "id": "1e713cfd",
   "metadata": {},
   "source": [
    "# Boolean\n",
    "## boolean expression\n"
   ]
  },
  {
   "cell_type": "code",
   "execution_count": 12,
   "id": "5e3bfa8b",
   "metadata": {},
   "outputs": [
    {
     "data": {
      "text/plain": [
       "True"
      ]
     },
     "execution_count": 12,
     "metadata": {},
     "output_type": "execute_result"
    }
   ],
   "source": [
    "12>=12"
   ]
  },
  {
   "cell_type": "code",
   "execution_count": null,
   "id": "b3c29f98",
   "metadata": {},
   "outputs": [],
   "source": [
    "true=one\n",
    "false=2\n"
   ]
  },
  {
   "cell_type": "code",
   "execution_count": 2,
   "id": "9fd4b32c",
   "metadata": {},
   "outputs": [
    {
     "name": "stdout",
     "output_type": "stream",
     "text": [
      "You're right\n"
     ]
    }
   ],
   "source": [
    "number=23\n",
    "if number==23:\n",
    "    print(\"You're right\")\n",
    "else:\n",
    "    print(\"You're wrong\")"
   ]
  },
  {
   "cell_type": "code",
   "execution_count": 5,
   "id": "ef63d7cc",
   "metadata": {},
   "outputs": [
    {
     "name": "stdout",
     "output_type": "stream",
     "text": [
      "Enter a number: 34\n",
      "fail\n"
     ]
    }
   ],
   "source": [
    "number=float(input(\"Enter a number: \"))\n",
    "if number==33:\n",
    "    print(\"You've passed\")\n",
    "else:\n",
    "    print(\"fail\")"
   ]
  },
  {
   "cell_type": "code",
   "execution_count": 6,
   "id": "72cd6c4b",
   "metadata": {},
   "outputs": [
    {
     "name": "stdout",
     "output_type": "stream",
     "text": [
      "Enter a number: 33\n",
      "You've passed\n"
     ]
    }
   ],
   "source": [
    "number=float(input(\"Enter a number: \"))\n",
    "if number==33:\n",
    "    print(\"You've passed\")\n",
    "else:\n",
    "    print(\"fail\")"
   ]
  },
  {
   "cell_type": "code",
   "execution_count": 9,
   "id": "96787d09",
   "metadata": {},
   "outputs": [
    {
     "name": "stdout",
     "output_type": "stream",
     "text": [
      "Enter your name: charity\n",
      "Enter Salary50000\n",
      "charity,your bonus is 5000.0\n",
      "Your basic salary is 50000.0\n",
      "Your new salary is, 55000.0\n"
     ]
    }
   ],
   "source": [
    "#new program\n",
    "name=input(\"Enter your name: \")\n",
    "salary=float(input(\"Enter Salary\" ))\n",
    "if name.startswith(\"C\"):\n",
    "    print(\"a{name}, you don't have a bonus, hence you're to receive {salary}\")\n",
    "else:\n",
    "    bonus=0.1*salary\n",
    "    new_salary=salary+bonus\n",
    "    print(f\"{name},your bonus is {bonus}\")\n",
    "    print(f\"Your basic salary is {salary}\")\n",
    "    print(f\"Your new salary is, {new_salary}\")\n"
   ]
  },
  {
   "cell_type": "code",
   "execution_count": null,
   "id": "bf30df04",
   "metadata": {},
   "outputs": [],
   "source": [
    "name=input(\"Enter your name: \")\n",
    "salary=float(input(\"Enter Salary\" ))\n",
    "if name.upper().startswith(\"C\"):\n",
    "    print(\"a{name}, you don't have a bonus, hence you're to receive {salary}\")\n",
    "else:\n",
    "    bonus=0.1*salary\n",
    "    new_salary=salary+bonus\n",
    "    print(f\"{name},your bonus is {bonus}\")\n",
    "    print(f\"Your basic salary is {salary}\")\n",
    "    print(f\"Your new salary is, {new_salary}\")\n",
    "   "
   ]
  },
  {
   "cell_type": "markdown",
   "id": "a7db9d73",
   "metadata": {},
   "source": [
    "# More Excercises        06/09/2023"
   ]
  },
  {
   "cell_type": "markdown",
   "id": "5c383e64",
   "metadata": {},
   "source": [
    "# Excercise 36: Vowel or Consonant\n",
    "## In this exercise you will create a program that reads a letter of the alphabet from the\n",
    "user. If the user enters a, e, i, o or u then your program should display a message\n",
    "indicating that the entered letter is a vowel. If the user enters y then your program\n",
    "should display a message indicating that sometimes y is a vowel, and sometimes y is\n",
    "a consonant. Otherwise your program should display a message indicating that the\n",
    "letter is a consonant"
   ]
  },
  {
   "cell_type": "code",
   "execution_count": 16,
   "id": "21e76be4",
   "metadata": {},
   "outputs": [
    {
     "name": "stdout",
     "output_type": "stream",
     "text": [
      "Enter a letter: h\n",
      "h) is not a consonant\n"
     ]
    }
   ],
   "source": [
    "letter=input(\"Enter a letter: \").lower()\n",
    "if len(letter)>1:\n",
    "    print(\"Input must be a letter\")\n",
    "else:\n",
    "    if letter in \"aeiou\":\n",
    "        print(f\"{letter} is a vowel\")\n",
    "    elif letter==\"y\":\n",
    "        print(f\"{letter} is sometimes a vowel and sometimes a consonant\")\n",
    "    else:\n",
    "        print(f\"{letter}) is not a consonant\")\n"
   ]
  },
  {
   "cell_type": "markdown",
   "id": "867dde54",
   "metadata": {},
   "source": [
    "# Loop control structure"
   ]
  },
  {
   "cell_type": "code",
   "execution_count": null,
   "id": "9517ad32",
   "metadata": {},
   "outputs": [],
   "source": [
    " for lcv in range(5):\n",
    "        print(\"Hello, George\")\n",
    "        \n",
    "        "
   ]
  },
  {
   "cell_type": "code",
   "execution_count": 8,
   "id": "ec9a8323",
   "metadata": {},
   "outputs": [
    {
     "name": "stdout",
     "output_type": "stream",
     "text": [
      "2\n",
      "4\n",
      "6\n",
      "8\n",
      "10\n",
      "12\n",
      "14\n",
      "16\n",
      "18\n",
      "20\n",
      "22\n",
      "24\n",
      "26\n",
      "28\n",
      "30\n",
      "32\n",
      "34\n",
      "36\n",
      "38\n",
      "40\n",
      "42\n",
      "44\n",
      "46\n",
      "48\n",
      "50\n",
      "52\n",
      "54\n",
      "56\n",
      "58\n",
      "60\n",
      "62\n",
      "64\n",
      "66\n",
      "68\n",
      "70\n",
      "72\n",
      "74\n",
      "76\n",
      "78\n",
      "80\n",
      "82\n",
      "84\n",
      "86\n",
      "88\n",
      "90\n",
      "92\n",
      "94\n",
      "96\n",
      "98\n",
      "100\n"
     ]
    }
   ],
   "source": [
    "for i in range (2,101,2):\n",
    "    print(i)"
   ]
  },
  {
   "cell_type": "code",
   "execution_count": 9,
   "id": "92179247",
   "metadata": {},
   "outputs": [
    {
     "name": "stdout",
     "output_type": "stream",
     "text": [
      "2\n",
      "4\n",
      "6\n",
      "8\n",
      "10\n",
      "12\n",
      "14\n",
      "16\n",
      "18\n",
      "20\n",
      "22\n",
      "24\n",
      "26\n",
      "28\n",
      "30\n",
      "32\n",
      "34\n",
      "36\n",
      "38\n",
      "40\n",
      "42\n",
      "44\n",
      "46\n",
      "48\n",
      "50\n",
      "52\n",
      "54\n",
      "56\n",
      "58\n",
      "60\n",
      "62\n",
      "64\n",
      "66\n",
      "68\n",
      "70\n",
      "72\n",
      "74\n",
      "76\n",
      "78\n",
      "80\n",
      "82\n",
      "84\n",
      "86\n",
      "88\n",
      "90\n",
      "92\n",
      "94\n",
      "96\n",
      "98\n",
      "100\n"
     ]
    }
   ],
   "source": [
    "for x in range (101):\n",
    "    if x%2==0 and x!=0: #x%2 means if the remainder is zero then print the result, if not then print nothing.\n",
    "        print(x)"
   ]
  },
  {
   "cell_type": "code",
   "execution_count": 14,
   "id": "29ff291f",
   "metadata": {},
   "outputs": [
    {
     "name": "stdout",
     "output_type": "stream",
     "text": [
      "Enter a name: jhf\n",
      "Congrats!!!\n"
     ]
    },
    {
     "ename": "KeyboardInterrupt",
     "evalue": "Interrupted by user",
     "output_type": "error",
     "traceback": [
      "\u001b[1;31m---------------------------------------------------------------------------\u001b[0m",
      "\u001b[1;31mKeyboardInterrupt\u001b[0m                         Traceback (most recent call last)",
      "Cell \u001b[1;32mIn[14], line 2\u001b[0m\n\u001b[0;32m      1\u001b[0m \u001b[38;5;28;01mfor\u001b[39;00m x \u001b[38;5;129;01min\u001b[39;00m \u001b[38;5;28mrange\u001b[39m(\u001b[38;5;241m12\u001b[39m):\n\u001b[1;32m----> 2\u001b[0m     name\u001b[38;5;241m=\u001b[39m\u001b[38;5;28;43minput\u001b[39;49m\u001b[43m(\u001b[49m\u001b[38;5;124;43m\"\u001b[39;49m\u001b[38;5;124;43mEnter a name: \u001b[39;49m\u001b[38;5;124;43m\"\u001b[39;49m\u001b[43m)\u001b[49m\n\u001b[0;32m      3\u001b[0m     \u001b[38;5;28;01mif\u001b[39;00m \u001b[38;5;28mlen\u001b[39m(name)\u001b[38;5;241m>\u001b[39m\u001b[38;5;241m5\u001b[39m:\n\u001b[0;32m      4\u001b[0m         \u001b[38;5;28mprint\u001b[39m(\u001b[38;5;124m\"\u001b[39m\u001b[38;5;124mError!!!\u001b[39m\u001b[38;5;124m\"\u001b[39m)\n",
      "File \u001b[1;32m~\\anaconda3\\lib\\site-packages\\ipykernel\\kernelbase.py:1175\u001b[0m, in \u001b[0;36mKernel.raw_input\u001b[1;34m(self, prompt)\u001b[0m\n\u001b[0;32m   1171\u001b[0m \u001b[38;5;28;01mif\u001b[39;00m \u001b[38;5;129;01mnot\u001b[39;00m \u001b[38;5;28mself\u001b[39m\u001b[38;5;241m.\u001b[39m_allow_stdin:\n\u001b[0;32m   1172\u001b[0m     \u001b[38;5;28;01mraise\u001b[39;00m StdinNotImplementedError(\n\u001b[0;32m   1173\u001b[0m         \u001b[38;5;124m\"\u001b[39m\u001b[38;5;124mraw_input was called, but this frontend does not support input requests.\u001b[39m\u001b[38;5;124m\"\u001b[39m\n\u001b[0;32m   1174\u001b[0m     )\n\u001b[1;32m-> 1175\u001b[0m \u001b[38;5;28;01mreturn\u001b[39;00m \u001b[38;5;28;43mself\u001b[39;49m\u001b[38;5;241;43m.\u001b[39;49m\u001b[43m_input_request\u001b[49m\u001b[43m(\u001b[49m\n\u001b[0;32m   1176\u001b[0m \u001b[43m    \u001b[49m\u001b[38;5;28;43mstr\u001b[39;49m\u001b[43m(\u001b[49m\u001b[43mprompt\u001b[49m\u001b[43m)\u001b[49m\u001b[43m,\u001b[49m\n\u001b[0;32m   1177\u001b[0m \u001b[43m    \u001b[49m\u001b[38;5;28;43mself\u001b[39;49m\u001b[38;5;241;43m.\u001b[39;49m\u001b[43m_parent_ident\u001b[49m\u001b[43m[\u001b[49m\u001b[38;5;124;43m\"\u001b[39;49m\u001b[38;5;124;43mshell\u001b[39;49m\u001b[38;5;124;43m\"\u001b[39;49m\u001b[43m]\u001b[49m\u001b[43m,\u001b[49m\n\u001b[0;32m   1178\u001b[0m \u001b[43m    \u001b[49m\u001b[38;5;28;43mself\u001b[39;49m\u001b[38;5;241;43m.\u001b[39;49m\u001b[43mget_parent\u001b[49m\u001b[43m(\u001b[49m\u001b[38;5;124;43m\"\u001b[39;49m\u001b[38;5;124;43mshell\u001b[39;49m\u001b[38;5;124;43m\"\u001b[39;49m\u001b[43m)\u001b[49m\u001b[43m,\u001b[49m\n\u001b[0;32m   1179\u001b[0m \u001b[43m    \u001b[49m\u001b[43mpassword\u001b[49m\u001b[38;5;241;43m=\u001b[39;49m\u001b[38;5;28;43;01mFalse\u001b[39;49;00m\u001b[43m,\u001b[49m\n\u001b[0;32m   1180\u001b[0m \u001b[43m\u001b[49m\u001b[43m)\u001b[49m\n",
      "File \u001b[1;32m~\\anaconda3\\lib\\site-packages\\ipykernel\\kernelbase.py:1217\u001b[0m, in \u001b[0;36mKernel._input_request\u001b[1;34m(self, prompt, ident, parent, password)\u001b[0m\n\u001b[0;32m   1214\u001b[0m             \u001b[38;5;28;01mbreak\u001b[39;00m\n\u001b[0;32m   1215\u001b[0m \u001b[38;5;28;01mexcept\u001b[39;00m \u001b[38;5;167;01mKeyboardInterrupt\u001b[39;00m:\n\u001b[0;32m   1216\u001b[0m     \u001b[38;5;66;03m# re-raise KeyboardInterrupt, to truncate traceback\u001b[39;00m\n\u001b[1;32m-> 1217\u001b[0m     \u001b[38;5;28;01mraise\u001b[39;00m \u001b[38;5;167;01mKeyboardInterrupt\u001b[39;00m(\u001b[38;5;124m\"\u001b[39m\u001b[38;5;124mInterrupted by user\u001b[39m\u001b[38;5;124m\"\u001b[39m) \u001b[38;5;28;01mfrom\u001b[39;00m \u001b[38;5;28mNone\u001b[39m\n\u001b[0;32m   1218\u001b[0m \u001b[38;5;28;01mexcept\u001b[39;00m \u001b[38;5;167;01mException\u001b[39;00m:\n\u001b[0;32m   1219\u001b[0m     \u001b[38;5;28mself\u001b[39m\u001b[38;5;241m.\u001b[39mlog\u001b[38;5;241m.\u001b[39mwarning(\u001b[38;5;124m\"\u001b[39m\u001b[38;5;124mInvalid Message:\u001b[39m\u001b[38;5;124m\"\u001b[39m, exc_info\u001b[38;5;241m=\u001b[39m\u001b[38;5;28;01mTrue\u001b[39;00m)\n",
      "\u001b[1;31mKeyboardInterrupt\u001b[0m: Interrupted by user"
     ]
    }
   ],
   "source": [
    "for x in range(12):\n",
    "    name=input(\"Enter a name: \")\n",
    "    if len(name)>5:\n",
    "        print(\"Error!!!\")\n",
    "    else:\n",
    "        print(\"Congrats!!!\")"
   ]
  },
  {
   "cell_type": "markdown",
   "id": "8a8fd02d",
   "metadata": {},
   "source": [
    "# packing and unpacking"
   ]
  },
  {
   "cell_type": "code",
   "execution_count": 1,
   "id": "3c8448f4",
   "metadata": {},
   "outputs": [],
   "source": [
    "  # study list methods\n",
    "    ## study list&tuple\n",
    "    "
   ]
  },
  {
   "cell_type": "code",
   "execution_count": null,
   "id": "8c147deb",
   "metadata": {},
   "outputs": [],
   "source": [
    "a,b,c,*d=my_tup"
   ]
  },
  {
   "cell_type": "code",
   "execution_count": null,
   "id": "4f7559b1",
   "metadata": {},
   "outputs": [],
   "source": []
  },
  {
   "cell_type": "markdown",
   "id": "5d7380ab",
   "metadata": {},
   "source": [
    "my_tup=(3,3)\n",
    "type(my_tup)"
   ]
  },
  {
   "cell_type": "markdown",
   "id": "45b061f2",
   "metadata": {},
   "source": [
    "## sets"
   ]
  },
  {
   "cell_type": "code",
   "execution_count": 1,
   "id": "0cf2ff0c",
   "metadata": {},
   "outputs": [
    {
     "name": "stdout",
     "output_type": "stream",
     "text": [
      "{34, 3, 4, 5, 6, 7, 8}\n"
     ]
    }
   ],
   "source": [
    "numbers={3,4,5,6,7,7,8,5}\n",
    "numbers.add(34)\n",
    "print(numbers)"
   ]
  },
  {
   "cell_type": "markdown",
   "id": "698edc77",
   "metadata": {},
   "source": [
    "## While loop"
   ]
  },
  {
   "cell_type": "code",
   "execution_count": 2,
   "id": "4151b7c0",
   "metadata": {},
   "outputs": [
    {
     "name": "stdout",
     "output_type": "stream",
     "text": [
      "hello Gee!\n",
      "hello Gee!\n",
      "hello Gee!\n"
     ]
    }
   ],
   "source": [
    "for i in range(3):\n",
    "    print(\"hello Gee!\")"
   ]
  },
  {
   "cell_type": "markdown",
   "id": "a0166ec0",
   "metadata": {},
   "source": [
    " while 0<1:\n",
    "    print(\"Come early\")\n",
    "#An infinite loop"
   ]
  },
  {
   "cell_type": "code",
   "execution_count": 4,
   "id": "199a28f6",
   "metadata": {},
   "outputs": [],
   "source": [
    "count=0\n",
    "while count>5:\n",
    "    print(\"Hello,Gee\")\n",
    "    count=count+1"
   ]
  },
  {
   "cell_type": "code",
   "execution_count": 2,
   "id": "1890f48f",
   "metadata": {},
   "outputs": [
    {
     "data": {
      "text/plain": [
       "['__doc__',\n",
       " '__loader__',\n",
       " '__name__',\n",
       " '__package__',\n",
       " '__spec__',\n",
       " 'acos',\n",
       " 'acosh',\n",
       " 'asin',\n",
       " 'asinh',\n",
       " 'atan',\n",
       " 'atan2',\n",
       " 'atanh',\n",
       " 'ceil',\n",
       " 'comb',\n",
       " 'copysign',\n",
       " 'cos',\n",
       " 'cosh',\n",
       " 'degrees',\n",
       " 'dist',\n",
       " 'e',\n",
       " 'erf',\n",
       " 'erfc',\n",
       " 'exp',\n",
       " 'expm1',\n",
       " 'fabs',\n",
       " 'factorial',\n",
       " 'floor',\n",
       " 'fmod',\n",
       " 'frexp',\n",
       " 'fsum',\n",
       " 'gamma',\n",
       " 'gcd',\n",
       " 'hypot',\n",
       " 'inf',\n",
       " 'isclose',\n",
       " 'isfinite',\n",
       " 'isinf',\n",
       " 'isnan',\n",
       " 'isqrt',\n",
       " 'lcm',\n",
       " 'ldexp',\n",
       " 'lgamma',\n",
       " 'log',\n",
       " 'log10',\n",
       " 'log1p',\n",
       " 'log2',\n",
       " 'modf',\n",
       " 'nan',\n",
       " 'nextafter',\n",
       " 'perm',\n",
       " 'pi',\n",
       " 'pow',\n",
       " 'prod',\n",
       " 'radians',\n",
       " 'remainder',\n",
       " 'sin',\n",
       " 'sinh',\n",
       " 'sqrt',\n",
       " 'tan',\n",
       " 'tanh',\n",
       " 'tau',\n",
       " 'trunc',\n",
       " 'ulp']"
      ]
     },
     "execution_count": 2,
     "metadata": {},
     "output_type": "execute_result"
    }
   ],
   "source": [
    "## Importing modules\n",
    "import math\n",
    "dir(math)"
   ]
  },
  {
   "cell_type": "code",
   "execution_count": 8,
   "id": "4e176b6b",
   "metadata": {},
   "outputs": [
    {
     "data": {
      "text/plain": [
       "5.0"
      ]
     },
     "execution_count": 8,
     "metadata": {},
     "output_type": "execute_result"
    }
   ],
   "source": [
    "math.sqrt(25)"
   ]
  },
  {
   "cell_type": "code",
   "execution_count": 7,
   "id": "593d2ec2",
   "metadata": {},
   "outputs": [
    {
     "data": {
      "text/plain": [
       "0.5253219888177297"
      ]
     },
     "execution_count": 7,
     "metadata": {},
     "output_type": "execute_result"
    }
   ],
   "source": [
    "import math as charles\n",
    "charles.cos(45)"
   ]
  },
  {
   "cell_type": "code",
   "execution_count": null,
   "id": "36696d48",
   "metadata": {},
   "outputs": [],
   "source": [
    "from math import*\n"
   ]
  },
  {
   "cell_type": "markdown",
   "id": "211b8e2e",
   "metadata": {},
   "source": [
    "## using the random module\n"
   ]
  },
  {
   "cell_type": "code",
   "execution_count": 9,
   "id": "3b258aed",
   "metadata": {},
   "outputs": [],
   "source": [
    "import random\n"
   ]
  },
  {
   "cell_type": "code",
   "execution_count": 12,
   "id": "446fdfe9",
   "metadata": {},
   "outputs": [
    {
     "data": {
      "text/plain": [
       "['BPF',\n",
       " 'LOG4',\n",
       " 'NV_MAGICCONST',\n",
       " 'RECIP_BPF',\n",
       " 'Random',\n",
       " 'SG_MAGICCONST',\n",
       " 'SystemRandom',\n",
       " 'TWOPI',\n",
       " '_ONE',\n",
       " '_Sequence',\n",
       " '_Set',\n",
       " '__all__',\n",
       " '__builtins__',\n",
       " '__cached__',\n",
       " '__doc__',\n",
       " '__file__',\n",
       " '__loader__',\n",
       " '__name__',\n",
       " '__package__',\n",
       " '__spec__',\n",
       " '_accumulate',\n",
       " '_acos',\n",
       " '_bisect',\n",
       " '_ceil',\n",
       " '_cos',\n",
       " '_e',\n",
       " '_exp',\n",
       " '_floor',\n",
       " '_index',\n",
       " '_inst',\n",
       " '_isfinite',\n",
       " '_log',\n",
       " '_os',\n",
       " '_pi',\n",
       " '_random',\n",
       " '_repeat',\n",
       " '_sha512',\n",
       " '_sin',\n",
       " '_sqrt',\n",
       " '_test',\n",
       " '_test_generator',\n",
       " '_urandom',\n",
       " '_warn',\n",
       " 'betavariate',\n",
       " 'choice',\n",
       " 'choices',\n",
       " 'expovariate',\n",
       " 'gammavariate',\n",
       " 'gauss',\n",
       " 'getrandbits',\n",
       " 'getstate',\n",
       " 'lognormvariate',\n",
       " 'normalvariate',\n",
       " 'paretovariate',\n",
       " 'randbytes',\n",
       " 'randint',\n",
       " 'random',\n",
       " 'randrange',\n",
       " 'sample',\n",
       " 'seed',\n",
       " 'setstate',\n",
       " 'shuffle',\n",
       " 'triangular',\n",
       " 'uniform',\n",
       " 'vonmisesvariate',\n",
       " 'weibullvariate']"
      ]
     },
     "execution_count": 12,
     "metadata": {},
     "output_type": "execute_result"
    }
   ],
   "source": [
    "dir (random)"
   ]
  },
  {
   "cell_type": "code",
   "execution_count": 20,
   "id": "36193dab",
   "metadata": {},
   "outputs": [
    {
     "data": {
      "text/plain": [
       "9"
      ]
     },
     "execution_count": 20,
     "metadata": {},
     "output_type": "execute_result"
    }
   ],
   "source": [
    "random.randint(2,10)"
   ]
  },
  {
   "cell_type": "code",
   "execution_count": 22,
   "id": "a23c86a4",
   "metadata": {},
   "outputs": [
    {
     "ename": "NameError",
     "evalue": "name 'k' is not defined",
     "output_type": "error",
     "traceback": [
      "\u001b[1;31m---------------------------------------------------------------------------\u001b[0m",
      "\u001b[1;31mNameError\u001b[0m                                 Traceback (most recent call last)",
      "Cell \u001b[1;32mIn[22], line 1\u001b[0m\n\u001b[1;32m----> 1\u001b[0m random\u001b[38;5;241m.\u001b[39mchoices([\u001b[38;5;124m\"\u001b[39m\u001b[38;5;124mCharles\u001b[39m\u001b[38;5;124m\"\u001b[39m, \u001b[38;5;124m\"\u001b[39m\u001b[38;5;124mGee\u001b[39m\u001b[38;5;124m\"\u001b[39m,\u001b[38;5;124m\"\u001b[39m\u001b[38;5;124mKelson\u001b[39m\u001b[38;5;124m\"\u001b[39m]),\u001b[43mk\u001b[49m\u001b[38;5;241m==\u001b[39m\u001b[38;5;241m5\u001b[39m\n",
      "\u001b[1;31mNameError\u001b[0m: name 'k' is not defined"
     ]
    }
   ],
   "source": [
    "random.choices([\"Charles\", \"Gee\",\"Kelson\"]),k=5"
   ]
  },
  {
   "cell_type": "code",
   "execution_count": 23,
   "id": "31dbc7ec",
   "metadata": {},
   "outputs": [
    {
     "name": "stdout",
     "output_type": "stream",
     "text": [
      "Make a guess(1,6): 2\n",
      "Try again!!\n",
      "Make a guess(1,6): 4\n",
      "Try again!!\n",
      "Make a guess(1,6): 1\n",
      "Try again!!\n",
      "Make a guess(1,6): 5\n",
      "Try again!!\n",
      "Make a guess(1,6): 3\n",
      "Try again!!\n"
     ]
    }
   ],
   "source": [
    "magic_number=random.randint(1,6)\n",
    "for magic_number in range(5):\n",
    "    guess=int(input(\"Make a guess(1,6): \"))\n",
    "    if magic_number==guess:\n",
    "        print(\"Congrats!!\")\n",
    "    else:\n",
    "        print(\"Try again!!\")"
   ]
  },
  {
   "cell_type": "markdown",
   "id": "020fc4e8",
   "metadata": {},
   "source": [
    "magic_number=random.randint(1,6)\n",
    "for magic_number in range(5):\n",
    "    guess=int(input(\"Make a guess(1,6): \"))\n",
    "    if magic_number==guess:\n",
    "        print(\"Congrats!!\")\n",
    "        break\n",
    "    else:\n",
    "        print(\"Try again!!\")"
   ]
  },
  {
   "cell_type": "code",
   "execution_count": 24,
   "id": "a432f6cb",
   "metadata": {},
   "outputs": [
    {
     "name": "stdout",
     "output_type": "stream",
     "text": [
      "Make a guess(1,6): 3\n",
      "Try again!!\n",
      "Make a guess(1,6): 1\n",
      "Congrats!!\n"
     ]
    }
   ],
   "source": [
    "magic_number=random.randint(1,6)\n",
    "for magic_number in range(5):\n",
    "    guess=int(input(\"Make a guess(1,6): \"))\n",
    "    if magic_number==guess:\n",
    "        print(\"Congrats!!\")\n",
    "        break\n",
    "    else:\n",
    "        print(\"Try again!!\")"
   ]
  },
  {
   "cell_type": "code",
   "execution_count": 1,
   "id": "38ee1392",
   "metadata": {},
   "outputs": [
    {
     "ename": "NameError",
     "evalue": "name 'random' is not defined",
     "output_type": "error",
     "traceback": [
      "\u001b[1;31m---------------------------------------------------------------------------\u001b[0m",
      "\u001b[1;31mNameError\u001b[0m                                 Traceback (most recent call last)",
      "Cell \u001b[1;32mIn[1], line 1\u001b[0m\n\u001b[1;32m----> 1\u001b[0m magic_number\u001b[38;5;241m=\u001b[39m\u001b[43mrandom\u001b[49m\u001b[38;5;241m.\u001b[39mrandint(\u001b[38;5;241m1\u001b[39m,\u001b[38;5;241m6\u001b[39m)\n\u001b[0;32m      2\u001b[0m \u001b[38;5;28;01mfor\u001b[39;00m magic_number \u001b[38;5;129;01min\u001b[39;00m \u001b[38;5;28mrange\u001b[39m(\u001b[38;5;241m5\u001b[39m):\n\u001b[0;32m      3\u001b[0m     guess\u001b[38;5;241m=\u001b[39m\u001b[38;5;28mint\u001b[39m(\u001b[38;5;28minput\u001b[39m(\u001b[38;5;124m\"\u001b[39m\u001b[38;5;124mMake a guess(1,6): \u001b[39m\u001b[38;5;124m\"\u001b[39m))\n",
      "\u001b[1;31mNameError\u001b[0m: name 'random' is not defined"
     ]
    }
   ],
   "source": [
    "magic_number=random.randint(1,6)\n",
    "for magic_number in range(5):\n",
    "    guess=int(input(\"Make a guess(1,6): \"))\n",
    "    if magic_number==guess:\n",
    "        print(\"Congrats!!\")\n",
    "        break\n",
    "    else:\n",
    "        print(f\"You have{6-(magic_number-1)}/nTry again!!\")"
   ]
  },
  {
   "cell_type": "code",
   "execution_count": 2,
   "id": "1d278cb5",
   "metadata": {},
   "outputs": [],
   "source": [
    "import random"
   ]
  },
  {
   "cell_type": "code",
   "execution_count": 5,
   "id": "def24f0c",
   "metadata": {},
   "outputs": [
    {
     "name": "stdout",
     "output_type": "stream",
     "text": [
      "Make a guess(1,6): 5\n",
      "You have 7 trials \n",
      "Try again!!\n",
      "Make a guess(1,6): 6\n",
      "You have 6 trials \n",
      "Try again!!\n",
      "Make a guess(1,6): 3\n",
      "You have 5 trials \n",
      "Try again!!\n",
      "Make a guess(1,6):  5\n",
      "You have 4 trials \n",
      "Try again!!\n",
      "Make a guess(1,6): 4\n",
      "Congrats!!\n"
     ]
    }
   ],
   "source": [
    "magic_number=random.randint(1,6)\n",
    "for magic_number in range(5):\n",
    "    guess=int(input(\"Make a guess(1,6): \"))\n",
    "    if magic_number==guess:\n",
    "        print(\"Congrats!!\")\n",
    "        break\n",
    "    else:\n",
    "        print(f\"You have {6-(magic_number-1)} trials \\nTry again!!\")\n",
    "        "
   ]
  },
  {
   "cell_type": "markdown",
   "id": "fb42b7bc",
   "metadata": {},
   "source": [
    "## Excersise 63"
   ]
  },
  {
   "cell_type": "markdown",
   "id": "d210672c",
   "metadata": {},
   "source": [
    "### A particular retailer is having a 60 percent off sale on a variety of discontinued\n",
    "products. The retailer would like to help its customers determine the reduced price\n",
    "of the merchandise by having a printed discount table on the shelf that shows the original prices and the prices after the discount has been applied. Write a program that\n",
    "uses a loop to generate this table, showing the original price, the discount amount,\n",
    "and the new price for purchases of $4.95, $9.95, $14.95, $19.95 and $24.95. Ensure\n",
    "that the discount amounts and the new prices are rounded to 2 decimal places when\n",
    "they are displayed\n"
   ]
  },
  {
   "cell_type": "markdown",
   "id": "13bc54c3",
   "metadata": {},
   "source": [
    " ##  Function                                                   18-09-2023"
   ]
  },
  {
   "cell_type": "code",
   "execution_count": null,
   "id": "1ccea9d9",
   "metadata": {},
   "outputs": [],
   "source": [
    "def median(a,b,c):\n",
    "    if a>=b and a<=c:\n",
    "        return a\n",
    "elif a<=b and a>=c:\n",
    "    return a\n",
    "elif b>=a and a>=c:"
   ]
  },
  {
   "cell_type": "code",
   "execution_count": 1,
   "id": "90fd0372",
   "metadata": {},
   "outputs": [
    {
     "name": "stdout",
     "output_type": "stream",
     "text": [
      "23\n"
     ]
    }
   ],
   "source": [
    "numbers=[23,56,10]\n",
    "numbers.sort()\n",
    "print(numbers[1])"
   ]
  },
  {
   "cell_type": "code",
   "execution_count": null,
   "id": "6934ad95",
   "metadata": {},
   "outputs": [],
   "source": [
    "def median(a,b,c):\n",
    "     "
   ]
  },
  {
   "cell_type": "code",
   "execution_count": 47,
   "id": "9161e4ee",
   "metadata": {},
   "outputs": [],
   "source": [
    "def get_ordinal(number):\n",
    "    if number not in [1,2,3,4,5]:\n",
    "        return\"\"\n",
    "    ordinal_dict={1:\"First\",\n",
    "                  2:\"Second\",\n",
    "                  3:\"Third\",\n",
    "                  4:\"Fourth\",\n",
    "                  5:\n",
    "    return ordinal_dict(number) #or     return ordinal_dict.get(number,\"\""
   ]
  },
  {
   "cell_type": "code",
   "execution_count": 46,
   "id": "df448851",
   "metadata": {},
   "outputs": [
    {
     "ename": "TypeError",
     "evalue": "get_message() missing 1 required positional argument: 'message'",
     "output_type": "error",
     "traceback": [
      "\u001b[1;31m---------------------------------------------------------------------------\u001b[0m",
      "\u001b[1;31mTypeError\u001b[0m                                 Traceback (most recent call last)",
      "Cell \u001b[1;32mIn[46], line 3\u001b[0m\n\u001b[0;32m      1\u001b[0m \u001b[38;5;28;01mdef\u001b[39;00m \u001b[38;5;21mget_message\u001b[39m(name, message):\n\u001b[0;32m      2\u001b[0m     \u001b[38;5;28;01mreturn\u001b[39;00m \u001b[38;5;124mf\u001b[39m\u001b[38;5;124m\"\u001b[39m\u001b[38;5;132;01m{\u001b[39;00mname\u001b[38;5;132;01m}\u001b[39;00m\u001b[38;5;124m: \u001b[39m\u001b[38;5;132;01m{\u001b[39;00mmessage\u001b[38;5;132;01m}\u001b[39;00m\u001b[38;5;124m\"\u001b[39m\n\u001b[1;32m----> 3\u001b[0m \u001b[43mget_message\u001b[49m\u001b[43m(\u001b[49m\u001b[38;5;124;43m\"\u001b[39;49m\u001b[38;5;124;43mCharity: Today is Tuesday\u001b[39;49m\u001b[38;5;124;43m\"\u001b[39;49m\u001b[43m)\u001b[49m\n",
      "\u001b[1;31mTypeError\u001b[0m: get_message() missing 1 required positional argument: 'message'"
     ]
    }
   ],
   "source": [
    "def get_message(name, message):\n",
    "    return f\"{name}: {message}\"\n",
    "get_message(\"Charity: Today is Tuesday\")"
   ]
  },
  {
   "cell_type": "code",
   "execution_count": 42,
   "id": "e133b8c9",
   "metadata": {},
   "outputs": [
    {
     "name": "stdout",
     "output_type": "stream",
     "text": [
      "Enter the value of a: 2\n",
      "Enter the value of b: 5\n",
      "Enter the value of c: 6\n"
     ]
    },
    {
     "ename": "NameError",
     "evalue": "name 'value' is not defined",
     "output_type": "error",
     "traceback": [
      "\u001b[1;31m---------------------------------------------------------------------------\u001b[0m",
      "\u001b[1;31mNameError\u001b[0m                                 Traceback (most recent call last)",
      "Cell \u001b[1;32mIn[42], line 8\u001b[0m\n\u001b[0;32m      6\u001b[0m b\u001b[38;5;241m=\u001b[39m\u001b[38;5;28mfloat\u001b[39m(\u001b[38;5;28minput\u001b[39m(\u001b[38;5;124m\"\u001b[39m\u001b[38;5;124mEnter the value of b: \u001b[39m\u001b[38;5;124m\"\u001b[39m))\n\u001b[0;32m      7\u001b[0m c\u001b[38;5;241m=\u001b[39m\u001b[38;5;28mfloat\u001b[39m(\u001b[38;5;28minput\u001b[39m(\u001b[38;5;124m\"\u001b[39m\u001b[38;5;124mEnter the value of c: \u001b[39m\u001b[38;5;124m\"\u001b[39m)) \n\u001b[1;32m----> 8\u001b[0m \u001b[38;5;28mprint\u001b[39m(\u001b[38;5;124mf\u001b[39m\u001b[38;5;124m\"\u001b[39m\u001b[38;5;132;01m{\u001b[39;00mvalue\u001b[38;5;132;01m}\u001b[39;00m\u001b[38;5;124m\"\u001b[39m)\n",
      "\u001b[1;31mNameError\u001b[0m: name 'value' is not defined"
     ]
    }
   ],
   "source": [
    "``````````````````````````````````````````````````````````````````````````````````````````````````````````````````````````````````````````````````````````````````````````````````````````````````````````````````````````````````````````````````````````````````````````````````````````````````````````````````````````````````````````````````````````````````````````````````````````````````````````````````````````````````````````````````````````````````````````````````````````````````````````````````````````````````````````````````````````````````````````````````````````````````````````````````````````````````````````````````````````````````````````````````````````````````````````````````````````````````````````````````````````````````````````````````````````````````````````````````````````````````````````````````````````````````````````````````````````````````````````````````````````````````````````````````````````````````````````````````````````````````````````````````````````````````````````````````````````````````````````````````````````````````````````````````````````````````````````````````````````````````````````````````````````````````````````````````````````````````````````````````````````````````````````````````````````````````````````````````````````````````````````````````````````````````````````````````````````````````````````````````````````````````````````````````````````````````````````````````````````````````````````````````````````````````````````````````````````````````````````````````````````````````````````````````````````````````````````````````````````````````````````````````````````def add_3(a, b=0, c=0):\n",
    " def add_3(a, b=0, c=0):  \n",
    "value = a + b + c\n",
    "    return f' The value is {value}'\n",
    "\n",
    "a=float(input(\"Enter the value of a: \"))\n",
    "b=float(input(\"Enter the value of b: \"))\n",
    "c=float(input(\"Enter the value of c: \")) \n",
    "result=add_3(a,b,c)\n",
    "print(f\"{result}\")"
   ]
  },
  {
   "cell_type": "code",
   "execution_count": 44,
   "id": "06c70c06",
   "metadata": {},
   "outputs": [
    {
     "name": "stdout",
     "output_type": "stream",
     "text": [
      "Enter the value of a: 2\n",
      "Enter the value of b: 5\n",
      "Enter the value of c: 7\n",
      " The value is 14.0\n"
     ]
    }
   ],
   "source": [
    "a=float(input(\"Enter the value of a: \"))\n",
    "b=float(input(\"Enter the value of b: \"))\n",
    "c=float(input(\"Enter the value of c: \")) \n",
    "result=add_3(a,b,c)\n",
    "print(f\"{result}\")\n"
   ]
  },
  {
   "cell_type": "code",
   "execution_count": 48,
   "id": "f7b6c889",
   "metadata": {},
   "outputs": [],
   "source": [
    "def add_multi(*a):\n",
    "    add=0\n",
    "    for i in a:\n",
    "        add=add+i\n",
    "    return add"
   ]
  },
  {
   "cell_type": "code",
   "execution_count": 49,
   "id": "e45b1ff7",
   "metadata": {},
   "outputs": [
    {
     "data": {
      "text/plain": [
       "37"
      ]
     },
     "execution_count": 49,
     "metadata": {},
     "output_type": "execute_result"
    }
   ],
   "source": [
    "add_multi(2,3,5,6,8,1,12)"
   ]
  },
  {
   "cell_type": "code",
   "execution_count": 1,
   "id": "49d6b960",
   "metadata": {},
   "outputs": [],
   "source": [
    "def find_divisors(chosen_number):\n",
    "    divisor=[]\n",
    "    for i in range(1, chosen_number+1):\n",
    "        if chosen_number%i==0:\n",
    "            divisor.append(i)\n",
    "        return divisors\n",
    "            \n",
    "        "
   ]
  },
  {
   "cell_type": "markdown",
   "id": "e4cbc89a",
   "metadata": {},
   "source": [
    " ## File Exception and handling"
   ]
  },
  {
   "cell_type": "code",
   "execution_count": null,
   "id": "fa3d2f3d",
   "metadata": {},
   "outputs": [],
   "source": [
    "file=open (\"the-first-txt\",\"w\")\n",
    "file.write(\"\\nToday is another day to be happy+++\")\n",
    "file.close()"
   ]
  },
  {
   "cell_type": "code",
   "execution_count": 5,
   "id": "0a223b11",
   "metadata": {},
   "outputs": [],
   "source": [
    "file_name=open(\"Charis_first_file.txt\",\"w\")\n",
    "file_name.write(\"Today is a new day\")\n",
    "file_name.close()"
   ]
  },
  {
   "cell_type": "markdown",
   "id": "614657aa",
   "metadata": {},
   "source": [
    "## Create a program that adds line numbers to a file. The name of the input file will be\n",
    "read from the user, as will the name of the new file that your program will create.\n",
    "Each line in the output file should begin with the line number, followed by a colon\n",
    "and a space, followed by the line from the input file"
   ]
  },
  {
   "cell_type": "code",
   "execution_count": 7,
   "id": "dde1d729",
   "metadata": {},
   "outputs": [
    {
     "ename": "SyntaxError",
     "evalue": "invalid syntax (202751667.py, line 3)",
     "output_type": "error",
     "traceback": [
      "\u001b[1;36m  Cell \u001b[1;32mIn[7], line 3\u001b[1;36m\u001b[0m\n\u001b[1;33m    input_file=open input (file name,\"r\")\u001b[0m\n\u001b[1;37m                    ^\u001b[0m\n\u001b[1;31mSyntaxError\u001b[0m\u001b[1;31m:\u001b[0m invalid syntax\n"
     ]
    }
   ],
   "source": [
    "input_file_name=input(\"Enter name of the input file\")\n",
    "output_file_name=input(\"Enter name of the output file\")\n",
    "input_file=open input (file name,\"r\")\n",
    "content=input_file.readlines()\n",
    "input_file.close()\n",
    "##creating the output file\n",
    "line_number=1\n",
    "for line in content:\n",
    "    output_file.write(f\"{line_number}: {line}\")\n",
    "    line_number=line_number+1 #or line number+=1 (Arguemented assignment )\n",
    "output_file.close()"
   ]
  },
  {
   "cell_type": "code",
   "execution_count": null,
   "id": "b7746fac",
   "metadata": {},
   "outputs": [],
   "source": []
  }
 ],
 "metadata": {
  "kernelspec": {
   "display_name": "Python 3 (ipykernel)",
   "language": "python",
   "name": "python3"
  },
  "language_info": {
   "codemirror_mode": {
    "name": "ipython",
    "version": 3
   },
   "file_extension": ".py",
   "mimetype": "text/x-python",
   "name": "python",
   "nbconvert_exporter": "python",
   "pygments_lexer": "ipython3",
   "version": "3.10.9"
  }
 },
 "nbformat": 4,
 "nbformat_minor": 5
}
