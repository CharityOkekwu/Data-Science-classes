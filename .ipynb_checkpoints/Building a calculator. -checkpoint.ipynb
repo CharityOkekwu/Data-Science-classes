{
 "cells": [
  {
   "cell_type": "markdown",
   "id": "14d23b74",
   "metadata": {},
   "source": [
    "### 18th-October,2023 \n",
    "### Creating Calculator interface."
   ]
  },
  {
   "cell_type": "code",
   "execution_count": 2,
   "id": "03bfc98e",
   "metadata": {},
   "outputs": [],
   "source": [
    "## creating a function that will respond when the add below is clicked on.\n",
    "def compute_add():\n",
    "    print(\"Clicked\")\n",
    "from tkinter import *\n",
    "root=Tk()\n",
    "frame1=Frame(root)\n",
    "frame1.pack()\n",
    "frame2=Frame(root)\n",
    "frame2.pack()\n",
    "frame3=Frame(root)\n",
    "frame3.pack()\n",
    "Label(frame1,text=\"Invest in Real Estate\").pack(side=\"left\")\n",
    "Entry(frame1).pack()\n",
    "Label(frame2,text=\"For land banking, invest in Tropicana Estate phase one\").pack(side=\"left\")\n",
    "Entry(frame2).pack()\n",
    "Label(frame3,text=\"For a buy and build property invest in Rose Garden Estate or Fountain view Estate\").pack(side=\"left\")\n",
    "Entry(frame3).pack()\n",
    "Button(root,text=\"Add\",command= compute_add).pack()\n",
    "root.mainloop()"
   ]
  },
  {
   "cell_type": "code",
   "execution_count": null,
   "id": "d9db71be",
   "metadata": {},
   "outputs": [],
   "source": []
  },
  {
   "cell_type": "code",
   "execution_count": null,
   "id": "7fd265e0",
   "metadata": {},
   "outputs": [],
   "source": [
    "def change_colour():\n",
    "    colour=ent.get()\n",
    "    print(colour)\n",
    "    master.config(bg=colour)\n",
    "master=Tk(className=\" Colour Changer\")\n",
    "master.config(bg=\"red\") #This command is used to change the background colour.\n",
    "Label(master,text=\"(Colour changer)\").grid(row=0,column=0,columnspan=2)\n",
    "Label(master,text=\"Colour\").grid(row=1,column=0)\n",
    "ent=Entry(master)#When you're trying to initiate a command in the(Entry)interface, you give it a name and reference the name in the function.\n",
    "ent.grid(row=1,column=1),\n",
    "Button(master,text=\"Change\",command=change_colour).grid(row=2,column=0,columnspan=2)\n",
    "master.mainloop()"
   ]
  },
  {
   "cell_type": "code",
   "execution_count": null,
   "id": "2242bf41",
   "metadata": {},
   "outputs": [],
   "source": [
    "frame1=Frame(master)\n",
    "frame1.grid()"
   ]
  },
  {
   "cell_type": "code",
   "execution_count": 21,
   "id": "cbc944e7",
   "metadata": {},
   "outputs": [],
   "source": [
    "from tkinter import *\n",
    "master=Tk(className=\"Casio Cal\")\n",
    "Label()\n",
    "Button(master,text=\"1\").grid(row=2,column=0)\n",
    "Button(master,text=\"2\").grid(row=2,column=1)\n",
    "Button(master,text=\"3\").grid(row=2,column=2)\n",
    "Button(master,text=\"4\").grid(row=2,column=3)\n",
    "Button(master,text=\"5\").grid(row=3,column=0)\n",
    "Button(master,text=\"6\").grid(row=3,column=1)\n",
    "Button(master,text=\"7\").grid(row=3,column=2)\n",
    "Button(master,text=\"8\").grid(row=3,column=3)\n",
    "Button(master,text=\"9\").grid(row=4,column=0)\n",
    "Button(master,text=\"0\").grid(row=4,column=1)\n",
    "Button(master,text=\"+\").grid(row=4,column=2)\n",
    "Button(master,text=\"-\").grid(row=4,column=3)\n",
    "Button(master,text=\"*\").grid(row=5,column=0)\n",
    "Button(master,text=\"/\").grid(row=5,column=1)\n",
    "Button(master,text=\"=\").grid(row=5,column=2,columnspan=2)\n",
    "master.mainloop()"
   ]
  },
  {
   "cell_type": "code",
   "execution_count": null,
   "id": "8e237e83",
   "metadata": {},
   "outputs": [],
   "source": []
  },
  {
   "cell_type": "code",
   "execution_count": 42,
   "id": "2751c1ea",
   "metadata": {},
   "outputs": [],
   "source": [
    "from tkinter import *\n",
    "master=Tk(className=\" Casio Cal\")\n",
    "Label(master,text=\"CALCULATOR\").grid(row=1,column=3,columnspan=3)\n",
    "Entry(master).grid(row=2,column=3,columnspan=3)\n",
    "frame1=Frame(master) #The frame is like a command that allows two \n",
    "frame1.grid()\n",
    "Button(frame1,text=\"1\").grid(row=2,column=0,padx=3,pady=3)\n",
    "Button(frame1,text=\"2\").grid(row=2,column=1,padx=3,pady=3)\n",
    "Button(frame1,text=\"3\").grid(row=2,column=2,padx=3,pady=3)\n",
    "Button(frame1,text=\"4\").grid(row=2,column=3,padx=3,pady=3)\n",
    "Button(frame1,text=\"5\").grid(row=3,column=0,padx=3,pady=3)\n",
    "Button(frame1,text=\"6\").grid(row=3,column=1,padx=3,pady=3)\n",
    "Button(frame1,text=\"7\").grid(row=3,column=2,padx=3,pady=3)\n",
    "Button(frame1,text=\"8\").grid(row=3,column=3,padx=3,pady=3)\n",
    "Button(frame1,text=\"9\").grid(row=4,column=0,padx=3,pady=3)\n",
    "Button(frame1,text=\"0\").grid(row=4,column=1,padx=3,pady=3)\n",
    "Button(frame1,text=\"+\").grid(row=4,column=2,padx=3,pady=3)\n",
    "Button(frame1,text=\"-\").grid(row=4,column=3,padx=3,pady=3)\n",
    "Button(frame1,text=\"*\").grid(row=5,column=0,padx=3,pady=3)\n",
    "Button(frame1,text=\"/\").grid(row=5,column=1,padx=3,pady=3)\n",
    "Button(frame1,text=\"=\",height=1,width=4).grid(row=5,column=2,columnspan=2)\n",
    "master.mainloop()"
   ]
  },
  {
   "cell_type": "markdown",
   "id": "f558f478",
   "metadata": {},
   "source": [
    "### Modification"
   ]
  },
  {
   "cell_type": "code",
   "execution_count": 53,
   "id": "1cbe0695",
   "metadata": {},
   "outputs": [],
   "source": [
    "from tkinter import *\n",
    "from tkinter import ttk\n",
    "master=Tk(className=\" Casio Cal\")\n",
    "Label(master,text=\"CALCULATOR\").grid(row=1,column=0,padx=3,pady=3,columnspan=3)\n",
    "Entry(master).grid(row=2,column=0,columnspan=3)\n",
    "frame1=Frame(master) #The frame is like a command that allows two \n",
    "frame1.grid()\n",
    "ttk.Button(frame1,text=\"1\").grid(row=2,column=0,padx=3,pady=3)\n",
    "ttk.Button(frame1,text=\"2\").grid(row=2,column=1,padx=3,pady=3)\n",
    "ttk.Button(frame1,text=\"3\").grid(row=2,column=2,padx=3,pady=3)\n",
    "ttk.Button(frame1,text=\"4\").grid(row=2,column=3,padx=3,pady=3)\n",
    "ttk.Button(frame1,text=\"5\").grid(row=3,column=0,padx=3,pady=3)\n",
    "ttk.Button(frame1,text=\"6\").grid(row=3,column=1,padx=3,pady=3)\n",
    "ttk.Button(frame1,text=\"7\").grid(row=3,column=2,padx=3,pady=3)\n",
    "ttk.Button(frame1,text=\"8\").grid(row=3,column=3,padx=3,pady=3)\n",
    "ttk.Button(frame1,text=\"9\").grid(row=4,column=0,padx=3,pady=3)\n",
    "ttk.Button(frame1,text=\"0\").grid(row=4,column=1,padx=3,pady=3)\n",
    "ttk.Button(frame1,text=\"+\").grid(row=4,column=2,padx=3,pady=3)\n",
    "ttk.Button(frame1,text=\"-\").grid(row=4,column=3,padx=3,pady=3)\n",
    "ttk.Button(frame1,text=\"*\").grid(row=5,column=0,padx=3,pady=3)\n",
    "ttk.Button(frame1,text=\"/\").grid(row=5,column=1,padx=3,pady=3)\n",
    "ttk.Button(frame1,text=\"=\").grid(row=5,column=2,columnspan=2,ipadx=12,ipady=4)\n",
    "master.mainloop()"
   ]
  },
  {
   "cell_type": "markdown",
   "id": "ef7284de",
   "metadata": {},
   "source": [
    "### Modification 2 @ Entry and Command"
   ]
  },
  {
   "cell_type": "code",
   "execution_count": 64,
   "id": "bca7347c",
   "metadata": {},
   "outputs": [
    {
     "name": "stdout",
     "output_type": "stream",
     "text": [
      "7\n",
      "*\n",
      "*\n",
      "5\n"
     ]
    }
   ],
   "source": [
    "from tkinter import *\n",
    "from tkinter import ttk\n",
    "def display_value(value):\n",
    "    print(value)\n",
    "    entry_name.insert(END,value)\n",
    "#def compute_value():\n",
    "    print(entry_name.get())\n",
    "    result=eval(entry_name.get())\n",
    "    print(result)\n",
    "\n",
    "\n",
    "master=Tk(className=\" Casio Cal\")\n",
    "Label(master,text=\"CALCULATOR\").grid(row=1,column=0,padx=3,pady=3,columnspan=3) \n",
    "\n",
    "entry_name=Entry(master,bd=6,relief=SUNKEN)\n",
    "entry_name.grid(row=1)\n",
    "\n",
    "frame1=Frame(master) #The frame is like a command that allows two \n",
    "frame1.grid()\n",
    "ttk.Button(frame1,text=\"1\",command=lambda:display_value(1)).grid(row=2,column=0,padx=3,pady=3)\n",
    "ttk.Button(frame1,text=\"2\",command=lambda:display_value(2)).grid(row=2,column=1,padx=3,pady=3)\n",
    "ttk.Button(frame1,text=\"3\",command=lambda:display_value(3)).grid(row=2,column=2,padx=3,pady=3)\n",
    "ttk.Button(frame1,text=\"4\",command=lambda:display_value(4)).grid(row=2,column=3,padx=3,pady=3)\n",
    "ttk.Button(frame1,text=\"5\",command=lambda:display_value(5)).grid(row=3,column=0,padx=3,pady=3)\n",
    "ttk.Button(frame1,text=\"6\",command=lambda:display_value(6)).grid(row=3,column=1,padx=3,pady=3)\n",
    "ttk.Button(frame1,text=\"7\",command=lambda:display_value(7)).grid(row=3,column=2,padx=3,pady=3)\n",
    "ttk.Button(frame1,text=\"8\",command=lambda:display_value(8)).grid(row=3,column=3,padx=3,pady=3)\n",
    "ttk.Button(frame1,text=\"9\",command=lambda:display_value(9)).grid(row=4,column=0,padx=3,pady=3)\n",
    "ttk.Button(frame1,text=\"0\",command=lambda:display_value(0)).grid(row=4,column=1,padx=3,pady=3)\n",
    "ttk.Button(frame1,text=\"+\",command=lambda:display_value(\"+\")).grid(row=4,column=2,padx=3,pady=3)\n",
    "ttk.Button(frame1,text=\"-\",command=lambda:display_value(\"-\")).grid(row=4,column=3,padx=3,pady=3)\n",
    "ttk.Button(frame1,text=\"*\",command=lambda:display_value(\"*\")).grid(row=5,column=0,padx=3,pady=3)\n",
    "ttk.Button(frame1,text=\"/\").grid(row=5,column=1,padx=3,pady=3)\n",
    "ttk.Button(frame1,text=\"=\").grid(row=5,column=2,columnspan=2,ipadx=12,ipady=4)\n",
    "master.mainloop()"
   ]
  },
  {
   "cell_type": "markdown",
   "id": "062c3b6f",
   "metadata": {},
   "source": [
    "### Modification to compute the result"
   ]
  },
  {
   "cell_type": "code",
   "execution_count": 66,
   "id": "afdbb74d",
   "metadata": {},
   "outputs": [
    {
     "name": "stdout",
     "output_type": "stream",
     "text": [
      "6\n",
      "*\n",
      "9\n",
      "6*9\n",
      "54\n"
     ]
    }
   ],
   "source": [
    "from tkinter import *\n",
    "from tkinter import ttk\n",
    "def display_value(value):\n",
    "    print(value)\n",
    "    entry_name.insert(END,value)\n",
    "    #Here\n",
    "def compute_value():\n",
    "    print(entry_name.get())\n",
    "    result=eval(entry_name.get())\n",
    "    print(result)\n",
    "    \n",
    "    entry_name.insert(END,result)\n",
    "\n",
    "\n",
    "master=Tk(className=\" Casio Cal\")\n",
    "Label(master,text=\"CALCULATOR\").grid(row=1,column=0,padx=3,pady=3,columnspan=3) \n",
    "\n",
    "entry_name=Entry(master,bd=6,relief=SUNKEN)\n",
    "entry_name.grid(row=1)\n",
    "\n",
    "frame1=Frame(master) #The frame is like a command that allows two \n",
    "frame1.grid()\n",
    "ttk.Button(frame1,text=\"1\",command=lambda:display_value(1)).grid(row=2,column=0,padx=3,pady=3)\n",
    "ttk.Button(frame1,text=\"2\",command=lambda:display_value(2)).grid(row=2,column=1,padx=3,pady=3)\n",
    "ttk.Button(frame1,text=\"3\",command=lambda:display_value(3)).grid(row=2,column=2,padx=3,pady=3)\n",
    "ttk.Button(frame1,text=\"4\",command=lambda:display_value(4)).grid(row=2,column=3,padx=3,pady=3)\n",
    "ttk.Button(frame1,text=\"5\",command=lambda:display_value(5)).grid(row=3,column=0,padx=3,pady=3)\n",
    "ttk.Button(frame1,text=\"6\",command=lambda:display_value(6)).grid(row=3,column=1,padx=3,pady=3)\n",
    "ttk.Button(frame1,text=\"7\",command=lambda:display_value(7)).grid(row=3,column=2,padx=3,pady=3)\n",
    "ttk.Button(frame1,text=\"8\",command=lambda:display_value(8)).grid(row=3,column=3,padx=3,pady=3)\n",
    "ttk.Button(frame1,text=\"9\",command=lambda:display_value(9)).grid(row=4,column=0,padx=3,pady=3)\n",
    "ttk.Button(frame1,text=\"0\",command=lambda:display_value(0)).grid(row=4,column=1,padx=3,pady=3)\n",
    "ttk.Button(frame1,text=\"+\",command=lambda:display_value(\"+\")).grid(row=4,column=2,padx=3,pady=3)\n",
    "ttk.Button(frame1,text=\"-\",command=lambda:display_value(\"-\")).grid(row=4,column=3,padx=3,pady=3)\n",
    "ttk.Button(frame1,text=\"*\",command=lambda:display_value(\"*\")).grid(row=5,column=0,padx=3,pady=3)\n",
    "ttk.Button(frame1,text=\"/\").grid(row=5,column=1,padx=3,pady=3)\n",
    "ttk.Button(frame1,text=\"=\",command=compute_value).grid(row=5,column=2,columnspan=2,ipadx=12,ipady=4)\n",
    "master.mainloop()"
   ]
  },
  {
   "cell_type": "code",
   "execution_count": null,
   "id": "7eb64f76",
   "metadata": {},
   "outputs": [],
   "source": []
  }
 ],
 "metadata": {
  "kernelspec": {
   "display_name": "Python 3 (ipykernel)",
   "language": "python",
   "name": "python3"
  },
  "language_info": {
   "codemirror_mode": {
    "name": "ipython",
    "version": 3
   },
   "file_extension": ".py",
   "mimetype": "text/x-python",
   "name": "python",
   "nbconvert_exporter": "python",
   "pygments_lexer": "ipython3",
   "version": "3.10.9"
  }
 },
 "nbformat": 4,
 "nbformat_minor": 5
}
