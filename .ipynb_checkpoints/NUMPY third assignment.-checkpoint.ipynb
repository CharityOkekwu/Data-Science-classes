{
 "cells": [
  {
   "cell_type": "markdown",
   "id": "ad70cbd9",
   "metadata": {},
   "source": [
    "### ASSIGNMENT 27th-November,2023\n",
    "#### Study spliting method and stacking method in numpy."
   ]
  },
  {
   "cell_type": "markdown",
   "id": "d6d6543d",
   "metadata": {},
   "source": [
    "#### 1. Splitting method: \n",
    "#### This involves splitting the array into divisions, which can be done by using the array name and the number of splits\n",
    "#### (Equal divisions)."
   ]
  },
  {
   "cell_type": "code",
   "execution_count": 1,
   "id": "2e925159",
   "metadata": {},
   "outputs": [],
   "source": [
    "import numpy as np"
   ]
  },
  {
   "cell_type": "code",
   "execution_count": 5,
   "id": "288c9b37",
   "metadata": {},
   "outputs": [
    {
     "name": "stdout",
     "output_type": "stream",
     "text": [
      "[ 0  1  2  3  4  5  6  7  8  9 10]\n"
     ]
    }
   ],
   "source": [
    "A=np.arange(11)\n",
    "print(A)\n"
   ]
  },
  {
   "cell_type": "markdown",
   "id": "1ff59445",
   "metadata": {},
   "source": [
    "#### Splitting the array:\n",
    "#### Example 1:"
   ]
  },
  {
   "cell_type": "code",
   "execution_count": 11,
   "id": "80cb4e3b",
   "metadata": {},
   "outputs": [
    {
     "data": {
      "text/plain": [
       "[array([0, 1, 2, 3, 4, 5]), array([ 6,  7,  8,  9, 10])]"
      ]
     },
     "execution_count": 11,
     "metadata": {},
     "output_type": "execute_result"
    }
   ],
   "source": [
    "np.array_split(A,2)"
   ]
  },
  {
   "cell_type": "code",
   "execution_count": 12,
   "id": "4cc83473",
   "metadata": {},
   "outputs": [
    {
     "data": {
      "text/plain": [
       "[array([0, 1, 2, 3]), array([4, 5, 6, 7]), array([ 8,  9, 10])]"
      ]
     },
     "execution_count": 12,
     "metadata": {},
     "output_type": "execute_result"
    }
   ],
   "source": [
    "np.array_split(A,3)"
   ]
  },
  {
   "cell_type": "markdown",
   "id": "a025ee2f",
   "metadata": {},
   "source": [
    "#### 2. Stacking method:\n",
    "#### Stacking involves dividing arrays using rows and columns.\n",
    "#### Example 1:"
   ]
  },
  {
   "cell_type": "code",
   "execution_count": 6,
   "id": "0631dba4",
   "metadata": {},
   "outputs": [
    {
     "name": "stdout",
     "output_type": "stream",
     "text": [
      "[[1 2]\n",
      " [3 4]\n",
      " [5 6]]\n"
     ]
    }
   ],
   "source": [
    "import numpy as np\n",
    "array1 = np.array([[1, 2], [3, 4]])\n",
    "array2 = np.array([[5, 6]])\n",
    "result = np.concatenate((array1, array2), axis=0)\n",
    "print(result)\n"
   ]
  },
  {
   "cell_type": "code",
   "execution_count": null,
   "id": "2574c052",
   "metadata": {},
   "outputs": [],
   "source": []
  }
 ],
 "metadata": {
  "kernelspec": {
   "display_name": "Python 3 (ipykernel)",
   "language": "python",
   "name": "python3"
  },
  "language_info": {
   "codemirror_mode": {
    "name": "ipython",
    "version": 3
   },
   "file_extension": ".py",
   "mimetype": "text/x-python",
   "name": "python",
   "nbconvert_exporter": "python",
   "pygments_lexer": "ipython3",
   "version": "3.10.9"
  }
 },
 "nbformat": 4,
 "nbformat_minor": 5
}
