{
 "cells": [
  {
   "cell_type": "markdown",
   "id": "8f88fba7",
   "metadata": {},
   "source": [
    "### A database management system using Structured Query Language (SQL).      "
   ]
  },
  {
   "cell_type": "markdown",
   "id": "53f37a63",
   "metadata": {},
   "source": [
    "#### 1. Relational database: This database uses records, tables, fields, characters and bits.\n",
    "#### 2. Non relational database:\n",
    "#### Foreign keys are used to link different tables.\n",
    "#### Primary keys are unique keys."
   ]
  },
  {
   "cell_type": "markdown",
   "id": "46885234",
   "metadata": {},
   "source": [
    "### STEPS IN CREATING A DATABASE."
   ]
  },
  {
   "cell_type": "markdown",
   "id": "0b7e548b",
   "metadata": {},
   "source": [
    "#### 1. import sqlite3 as sqlite\n",
    "#### 2. Connect\n",
    "#### 3.Create a TABLE using an SQL execute command.\n",
    "#### 4.Close the connection"
   ]
  },
  {
   "cell_type": "code",
   "execution_count": 4,
   "id": "84c29492",
   "metadata": {},
   "outputs": [],
   "source": [
    "import sqlite3 as sqlite\n",
    "connection=sqlite.connect(\"students.db\")\n",
    "connection.execute(\"CREATE TABLE students(mat TEXT, age INT, name TEXT)\")\n",
    "connection.close()"
   ]
  },
  {
   "cell_type": "markdown",
   "id": "9cc25eb0",
   "metadata": {},
   "source": [
    "### STEPS IN INSERTING VALUES INTO THE TABLE."
   ]
  },
  {
   "cell_type": "markdown",
   "id": "a57f3a15",
   "metadata": {},
   "source": [
    "#### 1. Open the table using conn=sqlite.connect(\"Students.db\")\n",
    "#### 2. The insert command\n",
    "#### 3. Commit to save the content\n",
    "#### 4. Close"
   ]
  },
  {
   "cell_type": "code",
   "execution_count": 9,
   "id": "945d7dbc",
   "metadata": {},
   "outputs": [],
   "source": [
    "conn=sqlite.connect(\"students.db\")\n",
    "conn.execute('INSERT INTO students(mat,age,name)VALUES(\"u2018/34565\",40, \"John\")')\n",
    "conn.commit()\n",
    "conn.close()             \n",
    "             "
   ]
  },
  {
   "cell_type": "markdown",
   "id": "168f0e93",
   "metadata": {},
   "source": [
    "### STEPS TO PRINT OUT THE CONTENT OF THE TABLE"
   ]
  },
  {
   "cell_type": "markdown",
   "id": "6db0b81e",
   "metadata": {},
   "source": [
    "#### 1. Get the connection\n",
    "#### 2. creating a cursor with the variable name cursor\n",
    "#### 3. The execute command\n",
    "#### 4. Look over it when you are not getting the result you are expecting(Including a loop).\n",
    "#### 5. print\n",
    "#### 6. Close the connection"
   ]
  },
  {
   "cell_type": "code",
   "execution_count": 10,
   "id": "bd90a990",
   "metadata": {},
   "outputs": [
    {
     "name": "stdout",
     "output_type": "stream",
     "text": [
      "('u2018/34565', 40, 'John')\n"
     ]
    }
   ],
   "source": [
    "conn=sqlite.connect(\"students.db\")\n",
    "curs=conn.cursor()\n",
    "content=curs.execute(\"SELECT*FROM students\")\n",
    "for record in content:\n",
    "    print(record)\n",
    "conn.close()"
   ]
  },
  {
   "cell_type": "code",
   "execution_count": 14,
   "id": "ae32a84a",
   "metadata": {},
   "outputs": [
    {
     "name": "stdout",
     "output_type": "stream",
     "text": [
      "<sqlite3.Cursor object at 0x000001AAB1935BC0>\n"
     ]
    },
    {
     "data": {
      "text/plain": [
       "<function Connection.close()>"
      ]
     },
     "execution_count": 14,
     "metadata": {},
     "output_type": "execute_result"
    }
   ],
   "source": [
    "conn=sqlite.connect(\"students.db\")\n",
    "curs=conn.cursor()\n",
    "content=curs.execute(\"SELECT*FROM students\")\n",
    "print(content)\n",
    "conn.close"
   ]
  },
  {
   "cell_type": "markdown",
   "id": "bb34a7a9",
   "metadata": {},
   "source": [
    "### NEW TABLE with restrictions"
   ]
  },
  {
   "cell_type": "code",
   "execution_count": 28,
   "id": "b54f27ad",
   "metadata": {
    "scrolled": true
   },
   "outputs": [],
   "source": [
    "connection=sqlite.connect(\"States.db\")\n",
    "conn.execute('CREATE TABLE States(State TEXT PRIMARY KEY,count INT NOT NULL)')\n",
    "connection.close()"
   ]
  },
  {
   "cell_type": "code",
   "execution_count": 29,
   "id": "70b457c1",
   "metadata": {},
   "outputs": [],
   "source": [
    "conn=sqlite.connect(\"States.db\")\n",
    "conn.execute('INSERT INTO States(State,count)VALUES(\"Rivers\",23)')\n",
    "conn.commit()\n",
    "conn.close()"
   ]
  },
  {
   "cell_type": "code",
   "execution_count": 30,
   "id": "4d66089f",
   "metadata": {},
   "outputs": [
    {
     "name": "stdout",
     "output_type": "stream",
     "text": [
      "<sqlite3.Cursor object at 0x000001AAB1DFEE40>\n"
     ]
    },
    {
     "data": {
      "text/plain": [
       "<function Connection.close()>"
      ]
     },
     "execution_count": 30,
     "metadata": {},
     "output_type": "execute_result"
    }
   ],
   "source": [
    "conn=sqlite.connect(\"States.db\")\n",
    "curs=conn.cursor()\n",
    "content=curs.execute(\"SELECT * FROM States\")\n",
    "print(content)\n",
    "conn.close"
   ]
  },
  {
   "cell_type": "code",
   "execution_count": null,
   "id": "052450d2",
   "metadata": {},
   "outputs": [],
   "source": []
  }
 ],
 "metadata": {
  "kernelspec": {
   "display_name": "Python 3 (ipykernel)",
   "language": "python",
   "name": "python3"
  },
  "language_info": {
   "codemirror_mode": {
    "name": "ipython",
    "version": 3
   },
   "file_extension": ".py",
   "mimetype": "text/x-python",
   "name": "python",
   "nbconvert_exporter": "python",
   "pygments_lexer": "ipython3",
   "version": "3.10.9"
  }
 },
 "nbformat": 4,
 "nbformat_minor": 5
}
