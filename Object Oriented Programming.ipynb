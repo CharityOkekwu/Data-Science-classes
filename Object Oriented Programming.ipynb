{
 "cells": [
  {
   "cell_type": "markdown",
   "id": "e3b875eb",
   "metadata": {},
   "source": [
    "## TKINTER  09-10-2023"
   ]
  },
  {
   "cell_type": "code",
   "execution_count": null,
   "id": "ce1dc511",
   "metadata": {},
   "outputs": [],
   "source": [
    "class Quadratic:#Quadratic is the class, it always starts with a capial letter.\n",
    "    def__init__(self,a,b,c): #Innit creates the function that gives the attribute of the class\n",
    "        self.a=a\n",
    "        self.b=b\n",
    "        self.c=c\n",
    "    def discriminant(self):#creating a method for calculating the discriminant \n",
    "        return self.b**2-4*self.a*self.c\n",
    "    "
   ]
  },
  {
   "cell_type": "code",
   "execution_count": null,
   "id": "282a7fef",
   "metadata": {},
   "outputs": [],
   "source": [
    "x= discriminant"
   ]
  },
  {
   "cell_type": "code",
   "execution_count": 3,
   "id": "9c5e5ef7",
   "metadata": {},
   "outputs": [
    {
     "data": {
      "text/plain": [
       "['ACTIVE',\n",
       " 'ALL',\n",
       " 'ANCHOR',\n",
       " 'ARC',\n",
       " 'BASELINE',\n",
       " 'BEVEL',\n",
       " 'BOTH',\n",
       " 'BOTTOM',\n",
       " 'BROWSE',\n",
       " 'BUTT',\n",
       " 'BaseWidget',\n",
       " 'BitmapImage',\n",
       " 'BooleanVar',\n",
       " 'Button',\n",
       " 'CASCADE',\n",
       " 'CENTER',\n",
       " 'CHAR',\n",
       " 'CHECKBUTTON',\n",
       " 'CHORD',\n",
       " 'COMMAND',\n",
       " 'CURRENT',\n",
       " 'CallWrapper',\n",
       " 'Canvas',\n",
       " 'Checkbutton',\n",
       " 'DISABLED',\n",
       " 'DOTBOX',\n",
       " 'DoubleVar',\n",
       " 'E',\n",
       " 'END',\n",
       " 'EW',\n",
       " 'EXCEPTION',\n",
       " 'EXTENDED',\n",
       " 'Entry',\n",
       " 'Event',\n",
       " 'EventType',\n",
       " 'FALSE',\n",
       " 'FIRST',\n",
       " 'FLAT',\n",
       " 'Frame',\n",
       " 'GROOVE',\n",
       " 'Grid',\n",
       " 'HIDDEN',\n",
       " 'HORIZONTAL',\n",
       " 'INSERT',\n",
       " 'INSIDE',\n",
       " 'Image',\n",
       " 'In',\n",
       " 'IntVar',\n",
       " 'LAST',\n",
       " 'LEFT',\n",
       " 'Label',\n",
       " 'LabelFrame',\n",
       " 'Listbox',\n",
       " 'MITER',\n",
       " 'MOVETO',\n",
       " 'MULTIPLE',\n",
       " 'Menu',\n",
       " 'Menubutton',\n",
       " 'Message',\n",
       " 'Misc',\n",
       " 'N',\n",
       " 'NE',\n",
       " 'NO',\n",
       " 'NONE',\n",
       " 'NORMAL',\n",
       " 'NS',\n",
       " 'NSEW',\n",
       " 'NUMERIC',\n",
       " 'NW',\n",
       " 'NoDefaultRoot',\n",
       " 'OFF',\n",
       " 'ON',\n",
       " 'OUTSIDE',\n",
       " 'OptionMenu',\n",
       " 'Out',\n",
       " 'PAGES',\n",
       " 'PIESLICE',\n",
       " 'PROJECTING',\n",
       " 'Pack',\n",
       " 'PanedWindow',\n",
       " 'PhotoImage',\n",
       " 'Place',\n",
       " 'RADIOBUTTON',\n",
       " 'RAISED',\n",
       " 'READABLE',\n",
       " 'RIDGE',\n",
       " 'RIGHT',\n",
       " 'ROUND',\n",
       " 'Radiobutton',\n",
       " 'S',\n",
       " 'SCROLL',\n",
       " 'SE',\n",
       " 'SEL',\n",
       " 'SEL_FIRST',\n",
       " 'SEL_LAST',\n",
       " 'SEPARATOR',\n",
       " 'SINGLE',\n",
       " 'SOLID',\n",
       " 'SUNKEN',\n",
       " 'SW',\n",
       " 'Scale',\n",
       " 'Scrollbar',\n",
       " 'Spinbox',\n",
       " 'StringVar',\n",
       " 'TOP',\n",
       " 'TRUE',\n",
       " 'Tcl',\n",
       " 'TclError',\n",
       " 'TclVersion',\n",
       " 'Text',\n",
       " 'Tk',\n",
       " 'TkVersion',\n",
       " 'Toplevel',\n",
       " 'UNDERLINE',\n",
       " 'UNITS',\n",
       " 'VERTICAL',\n",
       " 'Variable',\n",
       " 'W',\n",
       " 'WORD',\n",
       " 'WRITABLE',\n",
       " 'Widget',\n",
       " 'Wm',\n",
       " 'X',\n",
       " 'XView',\n",
       " 'Y',\n",
       " 'YES',\n",
       " 'YView',\n",
       " '_',\n",
       " '__',\n",
       " '___',\n",
       " '__builtin__',\n",
       " '__builtins__',\n",
       " '__doc__',\n",
       " '__loader__',\n",
       " '__name__',\n",
       " '__package__',\n",
       " '__spec__',\n",
       " '_dh',\n",
       " '_i',\n",
       " '_i1',\n",
       " '_i2',\n",
       " '_i3',\n",
       " '_ih',\n",
       " '_ii',\n",
       " '_iii',\n",
       " '_oh',\n",
       " 'exit',\n",
       " 'get_ipython',\n",
       " 'getboolean',\n",
       " 'getdouble',\n",
       " 'getint',\n",
       " 'image_names',\n",
       " 'image_types',\n",
       " 'mainloop',\n",
       " 'open',\n",
       " 'quit',\n",
       " 'root']"
      ]
     },
     "execution_count": 3,
     "metadata": {},
     "output_type": "execute_result"
    }
   ],
   "source": [
    " from tkinter import *\n",
    "#To display the content of tkinter use:\n",
    "dir()"
   ]
  },
  {
   "cell_type": "code",
   "execution_count": null,
   "id": "d0d3eb76",
   "metadata": {},
   "outputs": [],
   "source": [
    "class Multiplies_2:#creating the class\n",
    "    def__init__(self,a,b):#(giving attributes to the class)\n",
    "        self.a=a\n",
    "        self.b=b\n",
    "    __mul__#a dundan function for multiplication\n",
    "    "
   ]
  },
  {
   "cell_type": "code",
   "execution_count": null,
   "id": "8109df3f",
   "metadata": {},
   "outputs": [],
   "source": []
  },
  {
   "cell_type": "code",
   "execution_count": null,
   "id": "b92939e2",
   "metadata": {},
   "outputs": [],
   "source": [
    "#first: create a class out of the object\n",
    "root=Tk()\n",
    "\n",
    "root.mainloop() #This creates the parent window"
   ]
  },
  {
   "cell_type": "markdown",
   "id": "d56e93ab",
   "metadata": {},
   "source": [
    "## Geometry Managers:\n",
    "### 1.pack\n",
    "### 2.Grid\n",
    "### 3.place"
   ]
  },
  {
   "cell_type": "markdown",
   "id": "06340166",
   "metadata": {},
   "source": [
    "### Using Pack()"
   ]
  },
  {
   "cell_type": "code",
   "execution_count": 13,
   "id": "fa5e33c0",
   "metadata": {},
   "outputs": [],
   "source": [
    "#first: create a class out of the object\n",
    "from tkinter import *\n",
    "root=Tk()\n",
    "Label(root,text=\"number one\").pack() #Label is a class\n",
    "Entry(root).pack() #The Entry gives you a space to type.\n",
    "root.mainloop() #This creates the parent window"
   ]
  },
  {
   "cell_type": "markdown",
   "id": "41a09fc5",
   "metadata": {},
   "source": [
    "## Modification "
   ]
  },
  {
   "cell_type": "code",
   "execution_count": 16,
   "id": "1593df5a",
   "metadata": {},
   "outputs": [],
   "source": [
    "#first: create a class out of the object\n",
    "from tkinter import *\n",
    "root=Tk()\n",
    "Label(root,text=\"Number one\").pack(side=\"left\") #Label is a class,side=\"left\" arranges the number/text.\n",
    "Entry(root).pack() #The Entry gives you a space to type.\n",
    "Label(root,text=\"Number two\").pack(side=\"left\")\n",
    "Entry(root).pack() \n",
    "Label(root,text=\"Number three\").pack(side=\"left\") \n",
    "Entry(root).pack()\n",
    "Label(root,text=\"number four\").pack(side=\"left\")\n",
    "Entry(root).pack() \n",
    "Label(root,text=\"number five\").pack(side=\"left\") \n",
    "Entry(root).pack() \n",
    "root.mainloop() #This creates the parent window"
   ]
  },
  {
   "cell_type": "markdown",
   "id": "7b9c534f",
   "metadata": {},
   "source": [
    "## Modification 2:"
   ]
  },
  {
   "cell_type": "code",
   "execution_count": 2,
   "id": "9dda3961",
   "metadata": {},
   "outputs": [],
   "source": [
    "from tkinter import *\n",
    "root=Tk()\n",
    "frame1=Frame(root)# Frame is like a command that allows a particular to stay on the widget while entry allows a blank space to type.\n",
    "frame1.pack()\n",
    "frame2=Frame(root)\n",
    "frame2.pack()\n",
    "frame3=Frame(root)\n",
    "frame3.pack()\n",
    "Label(frame1,text=\"Invest in Real Estate\").pack(side=\"left\")\n",
    "Entry(frame1).pack()\n",
    "Label(frame2,text=\"For land banking, invest in Tropicana Estate phase one\").pack(side=\"left\")\n",
    "Entry(frame2).pack()\n",
    "Label(frame3,text=\"For a buy and build property invest in Rose Garden Estate or Fountain view Estate\").pack(side=\"left\")\n",
    "Entry(frame3).pack()\n",
    "Button(root,text=\"Add\").pack()\n",
    "root.mainloop()\n",
    "\n",
    "\n",
    "\n",
    "\n"
   ]
  },
  {
   "cell_type": "markdown",
   "id": "c4ea3200",
   "metadata": {},
   "source": [
    "## Event driven Programming.\n",
    "### Modification 3:"
   ]
  },
  {
   "cell_type": "code",
   "execution_count": 23,
   "id": "f8650e2d",
   "metadata": {},
   "outputs": [
    {
     "name": "stdout",
     "output_type": "stream",
     "text": [
      "Clicked\n"
     ]
    }
   ],
   "source": [
    "## creating a function that will respond when the add below is clicked on.\n",
    "def compute_add():\n",
    "    print(\"Clicked\")\n",
    "from tkinter import *\n",
    "root=Tk()\n",
    "frame1=Frame(root)\n",
    "frame1.pack()\n",
    "frame2=Frame(root)\n",
    "frame2.pack()\n",
    "frame3=Frame(root)\n",
    "frame3.pack()\n",
    "Label(frame1,text=\"Invest in Real Estate\").pack(side=\"left\")\n",
    "Entry(frame1).pack()\n",
    "Label(frame2,text=\"For land banking, invest in Tropicana Estate phase one\").pack(side=\"left\")\n",
    "Entry(frame2).pack()\n",
    "Label(frame3,text=\"For a buy and build property invest in Rose Garden Estate or Fountain view Estate\").pack(side=\"left\")\n",
    "Entry(frame3).pack()\n",
    "Button(root,text=\"Add\",command= compute_add).pack()\n",
    "root.mainloop()"
   ]
  },
  {
   "cell_type": "code",
   "execution_count": 33,
   "id": "f4a3636f",
   "metadata": {},
   "outputs": [
    {
     "name": "stdout",
     "output_type": "stream",
     "text": [
      "10.0\n",
      "10.0\n"
     ]
    }
   ],
   "source": [
    "def add_three_Entries():\n",
    "    add_three_Entries=float(entry1.get())+float(entry2.get())+float(entry3.get())\n",
    "    print(add_three_Entries)\n",
    "from tkinter import *\n",
    "root=Tk()\n",
    "frame1=Frame(root)\n",
    "frame1.pack()\n",
    "frame2=Frame(root)\n",
    "frame2.pack()\n",
    "frame3=Frame(root)\n",
    "frame3.pack()\n",
    "Label(frame1,text=\"Number one\").pack(side=\"left\")\n",
    "entry1=Entry(frame1)\n",
    "entry1.pack()\n",
    "Label(frame2,text=\"Number two\").pack(side=\"left\")\n",
    "entry2=Entry(frame2)\n",
    "entry2.pack()\n",
    "Label(frame3,text=\"Number three\").pack(side=\"left\")\n",
    "entry3=Entry(frame3)\n",
    "entry3.pack()\n",
    "Button(root,text=\"Add\",command=add_three_Entries).pack()\n",
    "root.mainloop()"
   ]
  },
  {
   "cell_type": "code",
   "execution_count": 28,
   "id": "8724f1a2",
   "metadata": {},
   "outputs": [
    {
     "name": "stdout",
     "output_type": "stream",
     "text": [
      "2\n",
      "2\n",
      "2\n"
     ]
    }
   ],
   "source": [
    "def compute_add():\n",
    "    print(entry1.get())\n",
    "    print(entry2.get())\n",
    "    print(entry3.get())\n",
    "from tkinter import *\n",
    "root=Tk()\n",
    "frame1=Frame(root)\n",
    "frame1.pack()\n",
    "frame2=Frame(root)\n",
    "frame2.pack()\n",
    "frame3=Frame(root)\n",
    "frame3.pack()\n",
    "Label(frame1,text=\"Number one\").pack(side=\"left\")\n",
    "entry1=Entry(frame1)\n",
    "entry1.pack()\n",
    "Label(frame2,text=\"Number two\").pack(side=\"left\")\n",
    "entry2=Entry(frame2)\n",
    "entry2.pack()\n",
    "Label(frame3,text=\"Number three\").pack(side=\"left\")\n",
    "entry3=Entry(frame3)\n",
    "entry3.pack()\n",
    "Button(root,text=\"Add\",command= compute_add).pack()\n",
    "root.mainloop()"
   ]
  },
  {
   "cell_type": "markdown",
   "id": "0c219532",
   "metadata": {},
   "source": [
    "## Completing the above as  an Assignment"
   ]
  },
  {
   "cell_type": "code",
   "execution_count": 36,
   "id": "3b6c299e",
   "metadata": {},
   "outputs": [
    {
     "name": "stdout",
     "output_type": "stream",
     "text": [
      "21.0\n"
     ]
    }
   ],
   "source": [
    "def add_three_Entries():\n",
    "    add_three_Entries=float(entry1.get())+float(entry2.get())+float(entry3.get())\n",
    "    print(add_three_Entries)\n",
    "from tkinter import *\n",
    "root=Tk()\n",
    "frame1=Frame(root)\n",
    "frame1.pack()\n",
    "frame2=Frame(root)\n",
    "frame2.pack()\n",
    "frame3=Frame(root)\n",
    "frame3.pack()\n",
    "Label(frame1,text=\"Number one\").pack(side=\"left\")\n",
    "entry1=Entry(frame1)\n",
    "entry1.pack()\n",
    "Label(frame2,text=\"Number two\").pack(side=\"left\")\n",
    "entry2=Entry(frame2)\n",
    "entry2.pack()\n",
    "Label(frame3,text=\"Number three\").pack(side=\"left\")\n",
    "entry3=Entry(frame3)\n",
    "entry3.pack()\n",
    "Button(root,text=\"Add\",command=add_three_Entries).pack()\n",
    "root.mainloop()"
   ]
  },
  {
   "cell_type": "markdown",
   "id": "5e976213",
   "metadata": {},
   "source": [
    "## Assignment 2:\n",
    "### Creating a  widget that adds, subtracts and multiplies three numbers."
   ]
  },
  {
   "cell_type": "code",
   "execution_count": 42,
   "id": "d21630d5",
   "metadata": {},
   "outputs": [],
   "source": [
    "def add():\n",
    "    add=float(entry1.get())+float(entry2.get())+float(entry3.get())\n",
    "    print(add)\n",
    "def substract():\n",
    "    substract=float(entry1.get())-float(entry2.get())-float(entry3.get())\n",
    "    print(substract)\n",
    "def divide():\n",
    "    divide=float(entry1.get())/float(entry2.get())/float(entry3.get())\n",
    "    print(add)\n",
    "def multiply():\n",
    "    multiply=float(entry1.get())*float(entry2.get())*float(entry3.get())\n",
    "    print(multiply)   \n",
    "from tkinter import *\n",
    "root=Tk()\n",
    "frame1=Frame(root)\n",
    "frame1.pack()\n",
    "frame2=Frame(root)\n",
    "frame2.pack()\n",
    "frame3=Frame(root)\n",
    "frame3.pack()\n",
    "Label(frame1,text=\"First number\").pack(side=\"left\")\n",
    "entry1=Entry(frame1)\n",
    "entry1.pack()\n",
    "Label(frame2,text=\"Second number\").pack(side=\"left\")\n",
    "entry2=Entry(frame2)\n",
    "entry2.pack()\n",
    "Label(frame3,text=\"Third number\").pack(side=\"left\")\n",
    "entry3=Entry(frame3)\n",
    "entry3.pack()\n",
    "Button(root,text=\"Add\",command=add).pack(side=\"left\")\n",
    "Button(root,text=\"Substract\",command=substract).pack(side=\"left\")\n",
    "Button(root,text=\"Divide\",command=divide).pack(side=\"left\")\n",
    "Button(root,text=\"Multiply\",command=multiply).pack(side=\"left\")\n",
    "root.mainloop()"
   ]
  },
  {
   "cell_type": "code",
   "execution_count": null,
   "id": "71d45444",
   "metadata": {},
   "outputs": [],
   "source": [
    "### "
   ]
  },
  {
   "cell_type": "code",
   "execution_count": 9,
   "id": "f645b3b4",
   "metadata": {},
   "outputs": [],
   "source": [
    "def add_three_Entries():\n",
    "    add_three_Entries=float(entry1.get())+float(entry2.get())+float(entry3.get())\n",
    "    result.config(text=f\"Result:{add_three_Entries}\")\n",
    "from tkinter import *\n",
    "root=Tk()\n",
    "frame1=Frame(root)\n",
    "frame1.pack()\n",
    "frame2=Frame(root)\n",
    "frame2.pack()\n",
    "frame3=Frame(root)\n",
    "frame3.pack()\n",
    "Label(frame1,text=\"Number one\").pack(side=\"left\")\n",
    "entry1=Entry(frame1)\n",
    "entry1.pack()\n",
    "Label(frame2,text=\"Number two\").pack(side=\"left\")\n",
    "entry2=Entry(frame2)\n",
    "entry2.pack()\n",
    "Label(frame3,text=\"Number three\").pack(side=\"left\")\n",
    "entry3=Entry(frame3)\n",
    "entry3.pack()\n",
    "Button(root,text=\"Add\",command=add_three_Entries).pack()\n",
    "result=Label(root)\n",
    "result.pack()\n",
    "root.mainloop()"
   ]
  },
  {
   "cell_type": "markdown",
   "id": "ec68ad74",
   "metadata": {},
   "source": [
    "### Using Grid"
   ]
  },
  {
   "cell_type": "code",
   "execution_count": 1,
   "id": "b7cf526e",
   "metadata": {},
   "outputs": [
    {
     "ename": "NameError",
     "evalue": "name 'Tk' is not defined",
     "output_type": "error",
     "traceback": [
      "\u001b[1;31m---------------------------------------------------------------------------\u001b[0m",
      "\u001b[1;31mNameError\u001b[0m                                 Traceback (most recent call last)",
      "Cell \u001b[1;32mIn[1], line 1\u001b[0m\n\u001b[1;32m----> 1\u001b[0m master\u001b[38;5;241m=\u001b[39m\u001b[43mTk\u001b[49m(className\u001b[38;5;241m=\u001b[39m\u001b[38;5;124m\"\u001b[39m\u001b[38;5;124m Colour Changer\u001b[39m\u001b[38;5;124m\"\u001b[39m)\n\u001b[0;32m      2\u001b[0m master\u001b[38;5;241m.\u001b[39mconfig(bg\u001b[38;5;241m=\u001b[39m\u001b[38;5;124m\"\u001b[39m\u001b[38;5;124mred\u001b[39m\u001b[38;5;124m\"\u001b[39m) \u001b[38;5;66;03m#This command is used to change the background colour.\u001b[39;00m\n\u001b[0;32m      3\u001b[0m Label(master,text\u001b[38;5;241m=\u001b[39m\u001b[38;5;124m\"\u001b[39m\u001b[38;5;124m(Colour changer)\u001b[39m\u001b[38;5;124m\"\u001b[39m)\u001b[38;5;241m.\u001b[39mgrid(row\u001b[38;5;241m=\u001b[39m\u001b[38;5;241m0\u001b[39m,column\u001b[38;5;241m=\u001b[39m\u001b[38;5;241m0\u001b[39m,columnspan\u001b[38;5;241m=\u001b[39m\u001b[38;5;241m2\u001b[39m)\n",
      "\u001b[1;31mNameError\u001b[0m: name 'Tk' is not defined"
     ]
    }
   ],
   "source": [
    "master=Tk(className=\" Colour Changer\")\n",
    "master.config(bg=\"red\") #This command is used to change the background colour.\n",
    "Label(master,text=\"(Colour changer)\").grid(row=0,column=0,columnspan=2)\n",
    "Label(master,text=\"Colour\").grid(row=1,column=0)\n",
    "Entry(master).grid(row=1,column=1)\n",
    "Button(master,text=\"Change\").grid(row=2,column=0,columnspan=2)\n",
    "master.mainloop()"
   ]
  },
  {
   "cell_type": "markdown",
   "id": "8817014d",
   "metadata": {},
   "source": [
    "## Linking button to the def function"
   ]
  },
  {
   "cell_type": "code",
   "execution_count": 25,
   "id": "cb7e2a2d",
   "metadata": {},
   "outputs": [
    {
     "name": "stdout",
     "output_type": "stream",
     "text": [
      "pink\n"
     ]
    }
   ],
   "source": [
    "def change_colour():\n",
    "    colour=ent.get()\n",
    "    print(colour)\n",
    "    master.config(bg=colour)\n",
    "master=Tk(className=\" Colour Changer\")\n",
    "master.config(bg=\"red\") #This command is used to change the background colour.\n",
    "Label(master,text=\"(Colour changer)\").grid(row=0,column=0,columnspan=2)\n",
    "Label(master,text=\"Colour\").grid(row=1,column=0)\n",
    "ent=Entry(master)#When you're trying to initiate a command in the(Entry)interface, you give it a name and reference the name in the function.\n",
    "ent.grid(row=1,column=1)\n",
    "Button(master,text=\"Change\",command=change_colour).grid(row=2,column=0,columnspan=2)\n",
    "master.mainloop()"
   ]
  },
  {
   "cell_type": "code",
   "execution_count": null,
   "id": "ead495b6",
   "metadata": {},
   "outputs": [],
   "source": []
  }
 ],
 "metadata": {
  "kernelspec": {
   "display_name": "Python 3 (ipykernel)",
   "language": "python",
   "name": "python3"
  },
  "language_info": {
   "codemirror_mode": {
    "name": "ipython",
    "version": 3
   },
   "file_extension": ".py",
   "mimetype": "text/x-python",
   "name": "python",
   "nbconvert_exporter": "python",
   "pygments_lexer": "ipython3",
   "version": "3.10.9"
  }
 },
 "nbformat": 4,
 "nbformat_minor": 5
}
