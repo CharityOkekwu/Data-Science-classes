{
 "cells": [
  {
   "cell_type": "markdown",
   "id": "6550d8dc",
   "metadata": {},
   "source": [
    "## ASSIGNMENT  8-10-2023"
   ]
  },
  {
   "cell_type": "markdown",
   "id": "464d5d53",
   "metadata": {},
   "source": [
    "### 1. Completing the class excercise."
   ]
  },
  {
   "cell_type": "code",
   "execution_count": 1,
   "id": "0be2178d",
   "metadata": {},
   "outputs": [
    {
     "name": "stdout",
     "output_type": "stream",
     "text": [
      "51.0\n"
     ]
    }
   ],
   "source": [
    "def add_three_Entries():\n",
    "    add_three_Entries=float(entry1.get())+float(entry2.get())+float(entry3.get())\n",
    "    print(add_three_Entries)\n",
    "from tkinter import *\n",
    "root=Tk()\n",
    "frame1=Frame(root)\n",
    "frame1.pack()\n",
    "frame2=Frame(root)\n",
    "frame2.pack()\n",
    "frame3=Frame(root)\n",
    "frame3.pack()\n",
    "Label(frame1,text=\"Number one\").pack(side=\"left\")\n",
    "entry1=Entry(frame1)\n",
    "entry1.pack()\n",
    "Label(frame2,text=\"Number two\").pack(side=\"left\")\n",
    "entry2=Entry(frame2)\n",
    "entry2.pack()\n",
    "Label(frame3,text=\"Number three\").pack(side=\"left\")\n",
    "entry3=Entry(frame3)\n",
    "entry3.pack()\n",
    "Button(root,text=\"Add\",command=add_three_Entries).pack()\n",
    "root.mainloop()"
   ]
  },
  {
   "cell_type": "markdown",
   "id": "3a500171",
   "metadata": {},
   "source": [
    "### 2. Creating a widget that adds, substracts,multiplies and divides."
   ]
  },
  {
   "cell_type": "code",
   "execution_count": 2,
   "id": "50f9c242",
   "metadata": {},
   "outputs": [
    {
     "name": "stdout",
     "output_type": "stream",
     "text": [
      "-7.0\n",
      "11.0\n",
      "<function add at 0x000001F9E6101750>\n",
      "40.0\n"
     ]
    }
   ],
   "source": [
    "def add():\n",
    "    add=float(entry1.get())+float(entry2.get())+float(entry3.get())\n",
    "    print(add)\n",
    "def substract():\n",
    "    substract=float(entry1.get())-float(entry2.get())-float(entry3.get())\n",
    "    print(substract)\n",
    "def divide():\n",
    "    divide=float(entry1.get())/float(entry2.get())/float(entry3.get())\n",
    "    print(add)\n",
    "def multiply():\n",
    "    multiply=float(entry1.get())*float(entry2.get())*float(entry3.get())\n",
    "    print(multiply)   \n",
    "from tkinter import *\n",
    "root=Tk()\n",
    "frame1=Frame(root)\n",
    "frame1.pack()\n",
    "frame2=Frame(root)\n",
    "frame2.pack()\n",
    "frame3=Frame(root)\n",
    "frame3.pack()\n",
    "Label(frame1,text=\"First number\").pack(side=\"left\")\n",
    "entry1=Entry(frame1)\n",
    "entry1.pack()\n",
    "Label(frame2,text=\"Second number\").pack(side=\"left\")\n",
    "entry2=Entry(frame2)\n",
    "entry2.pack()\n",
    "Label(frame3,text=\"Third number\").pack(side=\"left\")\n",
    "entry3=Entry(frame3)\n",
    "entry3.pack()\n",
    "Button(root,text=\"Add\",command=add).pack(side=\"left\")\n",
    "Button(root,text=\"Substract\",command=substract).pack(side=\"left\")\n",
    "Button(root,text=\"Divide\",command=divide).pack(side=\"left\")\n",
    "Button(root,text=\"Multiply\",command=multiply).pack(side=\"left\")\n",
    "root.mainloop()"
   ]
  },
  {
   "cell_type": "markdown",
   "id": "fd62a1c9",
   "metadata": {},
   "source": [
    "## Study the following\n",
    "### Inheritance:\n",
    "### Polymorphism\n",
    "### Encapsulation\n",
    "### Method overriding"
   ]
  },
  {
   "cell_type": "markdown",
   "id": "01f1608e",
   "metadata": {},
   "source": [
    "### 3.Inheritance:\n",
    "#### Inheritance allows us to define a class that inherits all the methods and properties from another class. Parent class is the class being inherited from, also called base class. Child class is the class that inherits from another class, also called derived class."
   ]
  },
  {
   "cell_type": "code",
   "execution_count": 6,
   "id": "afb35896",
   "metadata": {},
   "outputs": [],
   "source": [
    "class Person:\n",
    "  def __init__(self, fname, lname):\n",
    "    self.firstname = fname\n",
    "    self.lastname = lname\n",
    "\n",
    "  def printname(self):\n",
    "    print(self.fname, self.lname)\n",
    "\n"
   ]
  },
  {
   "cell_type": "code",
   "execution_count": 7,
   "id": "28c07f70",
   "metadata": {},
   "outputs": [
    {
     "ename": "NameError",
     "evalue": "name 'printname' is not defined",
     "output_type": "error",
     "traceback": [
      "\u001b[1;31m---------------------------------------------------------------------------\u001b[0m",
      "\u001b[1;31mNameError\u001b[0m                                 Traceback (most recent call last)",
      "Cell \u001b[1;32mIn[7], line 2\u001b[0m\n\u001b[0;32m      1\u001b[0m a\u001b[38;5;241m=\u001b[39mPerson(\u001b[38;5;124m\"\u001b[39m\u001b[38;5;124mCharity\u001b[39m\u001b[38;5;124m\"\u001b[39m, \u001b[38;5;124m\"\u001b[39m\u001b[38;5;124mO\u001b[39m\u001b[38;5;124m\"\u001b[39m)\n\u001b[1;32m----> 2\u001b[0m \u001b[43mprintname\u001b[49m()\n",
      "\u001b[1;31mNameError\u001b[0m: name 'printname' is not defined"
     ]
    }
   ],
   "source": [
    "a=Person(\"Charity\", \"O\")\n",
    "printname()"
   ]
  },
  {
   "cell_type": "markdown",
   "id": "dfcaf036",
   "metadata": {},
   "source": [
    "### 4. Polymorphism:\n",
    "Polymorphism lets us define methods in the child class that have the same name as the methods in the parent class. "
   ]
  },
  {
   "cell_type": "code",
   "execution_count": null,
   "id": "c10a0cdf",
   "metadata": {},
   "outputs": [],
   "source": []
  },
  {
   "cell_type": "markdown",
   "id": "f0d96865",
   "metadata": {},
   "source": [
    "### 5.Encapsulation:\n",
    "Encapsulation is a mechanism of wrapping the data (variables) and code acting on the data (methods) together as a single unit"
   ]
  },
  {
   "cell_type": "markdown",
   "id": "428a5c61",
   "metadata": {},
   "source": [
    "### 6. Method Overriding\n",
    " Method overriding is a feature of object-oriented programming languages where the subclass or child class can provide the program with specific characteristics or a specific implementation process of data provided that are already defined in the parent class or superclass."
   ]
  },
  {
   "cell_type": "code",
   "execution_count": null,
   "id": "55771af6",
   "metadata": {},
   "outputs": [],
   "source": []
  }
 ],
 "metadata": {
  "kernelspec": {
   "display_name": "Python 3 (ipykernel)",
   "language": "python",
   "name": "python3"
  },
  "language_info": {
   "codemirror_mode": {
    "name": "ipython",
    "version": 3
   },
   "file_extension": ".py",
   "mimetype": "text/x-python",
   "name": "python",
   "nbconvert_exporter": "python",
   "pygments_lexer": "ipython3",
   "version": "3.10.9"
  }
 },
 "nbformat": 4,
 "nbformat_minor": 5
}
