{
 "cells": [
  {
   "cell_type": "markdown",
   "id": "8f88fba7",
   "metadata": {},
   "source": [
    "### A database management system using Structured Query Language (SQL).      "
   ]
  },
  {
   "cell_type": "markdown",
   "id": "53f37a63",
   "metadata": {},
   "source": [
    "#### 1. Relational database: This database uses records, tables, fields, characters and bits.\n",
    "#### 2. Non relational database:\n",
    "#### Foreign keys are used to link different tables.\n",
    "#### Primary keys are unique keys."
   ]
  },
  {
   "cell_type": "markdown",
   "id": "46885234",
   "metadata": {},
   "source": [
    "### STEPS IN CREATING A DATABASE."
   ]
  },
  {
   "cell_type": "markdown",
   "id": "0b7e548b",
   "metadata": {},
   "source": [
    "#### 1. import sqlite3 as sqlite\n",
    "#### 2. Connect\n",
    "#### 3.Create a TABLE using an SQL execute command.\n",
    "#### 4.Close the connection"
   ]
  },
  {
   "cell_type": "code",
   "execution_count": 4,
   "id": "84c29492",
   "metadata": {},
   "outputs": [],
   "source": [
    "import sqlite3 as sqlite\n",
    "connection=sqlite.connect(\"students.db\")\n",
    "connection.execute(\"CREATE TABLE students(mat TEXT, age INT, name TEXT)\")\n",
    "connection.close()"
   ]
  },
  {
   "cell_type": "markdown",
   "id": "9cc25eb0",
   "metadata": {},
   "source": [
    "### STEPS IN INSERTING VALUES INTO THE TABLE."
   ]
  },
  {
   "cell_type": "markdown",
   "id": "a57f3a15",
   "metadata": {},
   "source": [
    "#### 1. Open the table using conn=sqlite.connect(\"Students.db\")\n",
    "#### 2. The insert command\n",
    "#### 3. Commit to save the content\n",
    "#### 4. Close"
   ]
  },
  {
   "cell_type": "code",
   "execution_count": 12,
   "id": "945d7dbc",
   "metadata": {},
   "outputs": [
    {
     "ename": "OperationalError",
     "evalue": "near \"\"John\"\": syntax error",
     "output_type": "error",
     "traceback": [
      "\u001b[1;31m---------------------------------------------------------------------------\u001b[0m",
      "\u001b[1;31mOperationalError\u001b[0m                          Traceback (most recent call last)",
      "Cell \u001b[1;32mIn[12], line 2\u001b[0m\n\u001b[0;32m      1\u001b[0m conn\u001b[38;5;241m=\u001b[39msqlite\u001b[38;5;241m.\u001b[39mconnect(\u001b[38;5;124m\"\u001b[39m\u001b[38;5;124mstudents.db\u001b[39m\u001b[38;5;124m\"\u001b[39m)\n\u001b[1;32m----> 2\u001b[0m \u001b[43mconn\u001b[49m\u001b[38;5;241;43m.\u001b[39;49m\u001b[43mexecute\u001b[49m\u001b[43m(\u001b[49m\u001b[38;5;124;43m'\u001b[39;49m\u001b[38;5;124;43mINSERT INTO students(mat,age,name)VALUES(\u001b[39;49m\u001b[38;5;124;43m\"\u001b[39;49m\u001b[38;5;124;43mu2018/34565\u001b[39;49m\u001b[38;5;124;43m\"\u001b[39;49m\u001b[38;5;124;43m,40 \u001b[39;49m\u001b[38;5;124;43m\"\u001b[39;49m\u001b[38;5;124;43mJohn\u001b[39;49m\u001b[38;5;124;43m\"\u001b[39;49m\u001b[38;5;124;43m)\u001b[39;49m\u001b[38;5;124;43m'\u001b[39;49m\u001b[43m)\u001b[49m\n\u001b[0;32m      3\u001b[0m conn\u001b[38;5;241m.\u001b[39mcommit()\n\u001b[0;32m      4\u001b[0m conn\u001b[38;5;241m.\u001b[39mclose()\n",
      "\u001b[1;31mOperationalError\u001b[0m: near \"\"John\"\": syntax error"
     ]
    }
   ],
   "source": [
    "conn=sqlite.connect(\"students.db\")\n",
    "conn.execute('INSERT INTO students(mat,age,name)VALUES(\"u2018/34565\",40 \"John\")')\n",
    "conn.commit()\n",
    "conn.close()             \n",
    "             "
   ]
  },
  {
   "cell_type": "code",
   "execution_count": null,
   "id": "83637bbf",
   "metadata": {},
   "outputs": [],
   "source": [
    "conn=sqlite.connect(\"students.db\")\n",
    "conn.execute('INSERT INTO students(mat,age,name)VALUES(\"u2018/34565\",40, 30, 70, 34, 56, \"John\", \"Charles\", \"Gift\",\"Williams\",\"Marvy\")')\n",
    "conn.commit()\n",
    "conn.close()             \n",
    "             "
   ]
  },
  {
   "cell_type": "markdown",
   "id": "168f0e93",
   "metadata": {},
   "source": [
    "### STEPS TO PRINT OUT THE CONTENT OF THE TABLE"
   ]
  },
  {
   "cell_type": "markdown",
   "id": "6db0b81e",
   "metadata": {},
   "source": [
    "#### 1. Get the connection\n",
    "#### 2. creating a cursor with the variable name cursor\n",
    "#### 3. The execute command\n",
    "#### 4. Look over it when you are not getting the result you are expecting(Including a loop).\n",
    "#### 5. print\n",
    "#### 6. Close the connection"
   ]
  },
  {
   "cell_type": "code",
   "execution_count": 10,
   "id": "bd90a990",
   "metadata": {},
   "outputs": [
    {
     "name": "stdout",
     "output_type": "stream",
     "text": [
      "('u2018/34565', 40, 'John')\n"
     ]
    }
   ],
   "source": [
    "conn=sqlite.connect(\"students.db\")\n",
    "curs=conn.cursor()\n",
    "content=curs.execute(\"SELECT*FROM students\")\n",
    "for record in content:\n",
    "    print(record)\n",
    "conn.close()"
   ]
  },
  {
   "cell_type": "markdown",
   "id": "8a25b099",
   "metadata": {},
   "source": [
    "### Modification\n",
    "#### Try this to select a specified colmn(Select name,age From students)."
   ]
  },
  {
   "cell_type": "code",
   "execution_count": 5,
   "id": "8d82e661",
   "metadata": {},
   "outputs": [
    {
     "name": "stdout",
     "output_type": "stream",
     "text": [
      "('u2018/34565', 'John')\n"
     ]
    }
   ],
   "source": [
    "conn=sqlite.connect(\"students.db\")\n",
    "curs=conn.cursor()\n",
    "content=curs.execute(\"SELECT mat,name FROM students\") #try this to select a specified colmn(Select name,age From students).\n",
    "for record in content:\n",
    "    print(record)\n",
    "conn.close() "
   ]
  },
  {
   "cell_type": "markdown",
   "id": "eaadb939",
   "metadata": {},
   "source": [
    "### Modification using the WHERE CLOCK"
   ]
  },
  {
   "cell_type": "code",
   "execution_count": 8,
   "id": "c5df8f73",
   "metadata": {},
   "outputs": [],
   "source": [
    "conn=sqlite.connect(\"students.db\")\n",
    "curs=conn.cursor()\n",
    "content=curs.execute(\"SELECT age FROM students WHERE age=70\") #try this to select age column when age=70.\n",
    "for record in content:\n",
    "    print(record)\n",
    "conn.close()"
   ]
  },
  {
   "cell_type": "code",
   "execution_count": 14,
   "id": "ae32a84a",
   "metadata": {},
   "outputs": [
    {
     "name": "stdout",
     "output_type": "stream",
     "text": [
      "<sqlite3.Cursor object at 0x000001AAB1935BC0>\n"
     ]
    },
    {
     "data": {
      "text/plain": [
       "<function Connection.close()>"
      ]
     },
     "execution_count": 14,
     "metadata": {},
     "output_type": "execute_result"
    }
   ],
   "source": [
    "conn=sqlite.connect(\"students.db\")\n",
    "curs=conn.cursor()\n",
    "content=curs.execute(\"SELECT*FROM students\")\n",
    "print(content)\n",
    "conn.close"
   ]
  },
  {
   "cell_type": "code",
   "execution_count": 6,
   "id": "f8c49e91",
   "metadata": {},
   "outputs": [
    {
     "name": "stdout",
     "output_type": "stream",
     "text": [
      "<sqlite3.Cursor object at 0x00000235CB8ABD40>\n"
     ]
    },
    {
     "data": {
      "text/plain": [
       "<function Connection.close()>"
      ]
     },
     "execution_count": 6,
     "metadata": {},
     "output_type": "execute_result"
    }
   ],
   "source": [
    "conn=sqlite.connect(\"students.db\")\n",
    "curs=conn.cursor()\n",
    "content=curs.execute(\"SELECT name, age FROM students\")\n",
    "print(content)\n",
    "conn.close"
   ]
  },
  {
   "cell_type": "markdown",
   "id": "bb34a7a9",
   "metadata": {},
   "source": [
    "### NEW TABLE with restrictions and limitations.\n",
    "#### All columns defined as primary key constraint must be defined as NOT NULL."
   ]
  },
  {
   "cell_type": "code",
   "execution_count": 28,
   "id": "b54f27ad",
   "metadata": {
    "scrolled": true
   },
   "outputs": [],
   "source": [
    "connection=sqlite.connect(\"States.db\")\n",
    "conn.execute('CREATE TABLE States(State TEXT PRIMARY KEY,count INT NOT NULL)')\n",
    "connection.close()"
   ]
  },
  {
   "cell_type": "code",
   "execution_count": 29,
   "id": "70b457c1",
   "metadata": {},
   "outputs": [],
   "source": [
    "conn=sqlite.connect(\"States.db\")\n",
    "conn.execute('INSERT INTO States(State,count)VALUES(\"Rivers\",23)')\n",
    "conn.commit()\n",
    "conn.close()"
   ]
  },
  {
   "cell_type": "code",
   "execution_count": 30,
   "id": "4d66089f",
   "metadata": {},
   "outputs": [
    {
     "name": "stdout",
     "output_type": "stream",
     "text": [
      "<sqlite3.Cursor object at 0x000001AAB1DFEE40>\n"
     ]
    },
    {
     "data": {
      "text/plain": [
       "<function Connection.close()>"
      ]
     },
     "execution_count": 30,
     "metadata": {},
     "output_type": "execute_result"
    }
   ],
   "source": [
    "conn=sqlite.connect(\"States.db\")\n",
    "curs=conn.cursor()\n",
    "content=curs.execute(\"SELECT * FROM States\")\n",
    "print(content)\n",
    "conn.close"
   ]
  },
  {
   "cell_type": "markdown",
   "id": "0d015cea",
   "metadata": {},
   "source": [
    "### Using the WHERE CLOCK"
   ]
  },
  {
   "cell_type": "code",
   "execution_count": null,
   "id": "feca8249",
   "metadata": {},
   "outputs": [],
   "source": []
  },
  {
   "cell_type": "markdown",
   "id": "66c92faf",
   "metadata": {},
   "source": [
    "### MORE ON DATA BASE        23-10-2023"
   ]
  },
  {
   "cell_type": "code",
   "execution_count": 1,
   "id": "f294e827",
   "metadata": {},
   "outputs": [],
   "source": [
    "import sqlite3 as sqlite\n",
    "conn=sqlite.connect(\"students.db\")\n",
    "conn.execute('INSERT INTO students(mat,age,name)VALUES(\"u2018/34565\",40, \"John\")')\n",
    "conn.commit()\n",
    "conn.close()             \n",
    "             "
   ]
  },
  {
   "cell_type": "code",
   "execution_count": 4,
   "id": "0b928200",
   "metadata": {},
   "outputs": [
    {
     "ename": "NameError",
     "evalue": "name 'mat' is not defined",
     "output_type": "error",
     "traceback": [
      "\u001b[1;31m---------------------------------------------------------------------------\u001b[0m",
      "\u001b[1;31mNameError\u001b[0m                                 Traceback (most recent call last)",
      "Cell \u001b[1;32mIn[4], line 2\u001b[0m\n\u001b[0;32m      1\u001b[0m conn\u001b[38;5;241m=\u001b[39msqlite\u001b[38;5;241m.\u001b[39mconnect(\u001b[38;5;124m\"\u001b[39m\u001b[38;5;124mstudents.db\u001b[39m\u001b[38;5;124m\"\u001b[39m)\n\u001b[1;32m----> 2\u001b[0m conn\u001b[38;5;241m.\u001b[39mexecute(\u001b[38;5;124m'\u001b[39m\u001b[38;5;124mINSERT INTO students VALUES(? ? ?)\u001b[39m\u001b[38;5;124m'\u001b[39m,(\u001b[43mmat\u001b[49m,age,name))\n\u001b[0;32m      3\u001b[0m conn\u001b[38;5;241m.\u001b[39mcommit()\n\u001b[0;32m      4\u001b[0m conn\u001b[38;5;241m.\u001b[39mclose()\n",
      "\u001b[1;31mNameError\u001b[0m: name 'mat' is not defined"
     ]
    }
   ],
   "source": [
    "conn=sqlite.connect(\"students.db\")\n",
    "conn.execute('INSERT INTO students VALUES(? ? ?)',(mat,age,name))\n",
    "conn.commit()\n",
    "conn.close()             \n",
    "             "
   ]
  },
  {
   "cell_type": "code",
   "execution_count": null,
   "id": "aec4f91f",
   "metadata": {},
   "outputs": [],
   "source": []
  }
 ],
 "metadata": {
  "kernelspec": {
   "display_name": "Python 3 (ipykernel)",
   "language": "python",
   "name": "python3"
  },
  "language_info": {
   "codemirror_mode": {
    "name": "ipython",
    "version": 3
   },
   "file_extension": ".py",
   "mimetype": "text/x-python",
   "name": "python",
   "nbconvert_exporter": "python",
   "pygments_lexer": "ipython3",
   "version": "3.10.9"
  }
 },
 "nbformat": 4,
 "nbformat_minor": 5
}
